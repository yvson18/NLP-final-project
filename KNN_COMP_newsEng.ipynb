{
 "cells": [
  {
   "cell_type": "code",
   "execution_count": 1,
   "metadata": {},
   "outputs": [
    {
     "name": "stderr",
     "output_type": "stream",
     "text": [
      "/home/yvson/Documents/Faculdade/NLP/NLP-final-project/venv/lib/python3.10/site-packages/tqdm/auto.py:21: TqdmWarning: IProgress not found. Please update jupyter and ipywidgets. See https://ipywidgets.readthedocs.io/en/stable/user_install.html\n",
      "  from .autonotebook import tqdm as notebook_tqdm\n"
     ]
    }
   ],
   "source": [
    "import pandas as pd\n",
    "from datasets import load_dataset, dataset_dict\n",
    "import gzip\n",
    "import bz2\n",
    "import numpy as np\n",
    "from tqdm import tqdm\n",
    "import concurrent.futures\n",
    "from sklearn.model_selection import train_test_split"
   ]
  },
  {
   "cell_type": "code",
   "execution_count": 2,
   "metadata": {},
   "outputs": [],
   "source": [
    "dataset = load_dataset(\"ag_news\")"
   ]
  },
  {
   "cell_type": "code",
   "execution_count": 3,
   "metadata": {},
   "outputs": [],
   "source": [
    "train , validation = train_test_split(dataset['train'].to_pandas(), test_size=0.065, random_state=42)"
   ]
  },
  {
   "cell_type": "code",
   "execution_count": 4,
   "metadata": {},
   "outputs": [],
   "source": [
    "def get_balanced_dataset(dataset, percentage):\n",
    "    import warnings\n",
    "    warnings.filterwarnings(\"ignore\", category=DeprecationWarning) \n",
    "    dataset = pd.DataFrame(dataset)\n",
    "    dataset = dataset[['text', 'label']]\n",
    "    dataset = dataset.groupby(\"label\").apply(lambda x: x.sample(frac=percentage)).reset_index(drop=True)\n",
    "    return dataset"
   ]
  },
  {
   "cell_type": "code",
   "execution_count": 5,
   "metadata": {},
   "outputs": [
    {
     "data": {
      "text/plain": [
       "['World', 'Sports', 'Business', 'Sci/Tech']"
      ]
     },
     "execution_count": 5,
     "metadata": {},
     "output_type": "execute_result"
    }
   ],
   "source": [
    "Categories = [\"World\", \"Sports\", \"Business\", \"Sci/Tech\"]\n",
    "Categories"
   ]
  },
  {
   "cell_type": "code",
   "execution_count": 12,
   "metadata": {},
   "outputs": [],
   "source": [
    "perc_train = 0.14\n",
    "perc = 0.25\n",
    "\n",
    "train_df = get_balanced_dataset(train, perc_train)\n",
    "teste_df = get_balanced_dataset(dataset[\"test\"], perc)\n",
    "valid_df = get_balanced_dataset(validation, perc)\n",
    "\n",
    "train_df['Categories'] = train_df['label'].apply(lambda x: Categories[x])\n",
    "\n",
    "training_set = list(zip(train_df[\"text\"], train_df[\"label\"]))\n",
    "test_set = list(zip(teste_df[\"text\"], teste_df[\"label\"]))\n"
   ]
  },
  {
   "cell_type": "code",
   "execution_count": 13,
   "metadata": {},
   "outputs": [
    {
     "data": {
      "text/plain": [
       "<Axes: title={'center': 'Distribuição das categorias - Treino AGNews'}, xlabel='Categories'>"
      ]
     },
     "execution_count": 13,
     "metadata": {},
     "output_type": "execute_result"
    },
    {
     "data": {
      "image/png": "[encoded data removed]",
      "text/plain": [
       "<Figure size 640x480 with 1 Axes>"
      ]
     },
     "metadata": {},
     "output_type": "display_data"
    }
   ],
   "source": [
    "pd.DataFrame(train_df)['Categories'].value_counts().plot(kind='bar', title='Distribuição das categorias - Treino AGNews')"
   ]
  },
  {
   "cell_type": "code",
   "execution_count": 75,
   "metadata": {},
   "outputs": [
    {
     "data": {
      "text/html": [
       "<div>\n",
       "<style scoped>\n",
       "    .dataframe tbody tr th:only-of-type {\n",
       "        vertical-align: middle;\n",
       "    }\n",
       "\n",
       "    .dataframe tbody tr th {\n",
       "        vertical-align: top;\n",
       "    }\n",
       "\n",
       "    .dataframe thead th {\n",
       "        text-align: right;\n",
       "    }\n",
       "</style>\n",
       "<table border=\"1\" class=\"dataframe\">\n",
       "  <thead>\n",
       "    <tr style=\"text-align: right;\">\n",
       "      <th></th>\n",
       "      <th>text</th>\n",
       "      <th>label</th>\n",
       "    </tr>\n",
       "  </thead>\n",
       "  <tbody>\n",
       "    <tr>\n",
       "      <th>0</th>\n",
       "      <td>Annan: Darfur settlement possible by year end ...</td>\n",
       "      <td>0</td>\n",
       "    </tr>\n",
       "    <tr>\n",
       "      <th>1</th>\n",
       "      <td>Philippines Rushes Relief to Flooded Areas  GE...</td>\n",
       "      <td>0</td>\n",
       "    </tr>\n",
       "    <tr>\n",
       "      <th>2</th>\n",
       "      <td>UK soldier held over Iraq murder A 21-year-old...</td>\n",
       "      <td>0</td>\n",
       "    </tr>\n",
       "    <tr>\n",
       "      <th>3</th>\n",
       "      <td>European Envoy Visiting Turkey to Assess Situa...</td>\n",
       "      <td>0</td>\n",
       "    </tr>\n",
       "    <tr>\n",
       "      <th>4</th>\n",
       "      <td>Voters in Hungary decide referenda Voters in H...</td>\n",
       "      <td>0</td>\n",
       "    </tr>\n",
       "    <tr>\n",
       "      <th>...</th>\n",
       "      <td>...</td>\n",
       "      <td>...</td>\n",
       "    </tr>\n",
       "    <tr>\n",
       "      <th>15704</th>\n",
       "      <td>N.Y. Atty General Announces Drug-Price Web Sit...</td>\n",
       "      <td>3</td>\n",
       "    </tr>\n",
       "    <tr>\n",
       "      <th>15705</th>\n",
       "      <td>Al Gore Touts Promise of Stem-Cell Research By...</td>\n",
       "      <td>3</td>\n",
       "    </tr>\n",
       "    <tr>\n",
       "      <th>15706</th>\n",
       "      <td>IDC: AMD captured 10 percent CPU share Market ...</td>\n",
       "      <td>3</td>\n",
       "    </tr>\n",
       "    <tr>\n",
       "      <th>15707</th>\n",
       "      <td>Sharp adds hard disk to its Linux PDA Sharp Co...</td>\n",
       "      <td>3</td>\n",
       "    </tr>\n",
       "    <tr>\n",
       "      <th>15708</th>\n",
       "      <td>Intel releases new leader of Pentium M pack ZD...</td>\n",
       "      <td>3</td>\n",
       "    </tr>\n",
       "  </tbody>\n",
       "</table>\n",
       "<p>15709 rows × 2 columns</p>\n",
       "</div>"
      ],
      "text/plain": [
       "                                                    text  label\n",
       "0      Annan: Darfur settlement possible by year end ...      0\n",
       "1      Philippines Rushes Relief to Flooded Areas  GE...      0\n",
       "2      UK soldier held over Iraq murder A 21-year-old...      0\n",
       "3      European Envoy Visiting Turkey to Assess Situa...      0\n",
       "4      Voters in Hungary decide referenda Voters in H...      0\n",
       "...                                                  ...    ...\n",
       "15704  N.Y. Atty General Announces Drug-Price Web Sit...      3\n",
       "15705  Al Gore Touts Promise of Stem-Cell Research By...      3\n",
       "15706  IDC: AMD captured 10 percent CPU share Market ...      3\n",
       "15707  Sharp adds hard disk to its Linux PDA Sharp Co...      3\n",
       "15708  Intel releases new leader of Pentium M pack ZD...      3\n",
       "\n",
       "[15709 rows x 2 columns]"
      ]
     },
     "execution_count": 75,
     "metadata": {},
     "output_type": "execute_result"
    }
   ],
   "source": [
    "train_df"
   ]
  },
  {
   "cell_type": "code",
   "execution_count": 76,
   "metadata": {},
   "outputs": [
    {
     "data": {
      "text/html": [
       "<div>\n",
       "<style scoped>\n",
       "    .dataframe tbody tr th:only-of-type {\n",
       "        vertical-align: middle;\n",
       "    }\n",
       "\n",
       "    .dataframe tbody tr th {\n",
       "        vertical-align: top;\n",
       "    }\n",
       "\n",
       "    .dataframe thead th {\n",
       "        text-align: right;\n",
       "    }\n",
       "</style>\n",
       "<table border=\"1\" class=\"dataframe\">\n",
       "  <thead>\n",
       "    <tr style=\"text-align: right;\">\n",
       "      <th></th>\n",
       "      <th>text</th>\n",
       "      <th>label</th>\n",
       "    </tr>\n",
       "  </thead>\n",
       "  <tbody>\n",
       "    <tr>\n",
       "      <th>0</th>\n",
       "      <td>Accused Air India bomber is a victim of lies: ...</td>\n",
       "      <td>0</td>\n",
       "    </tr>\n",
       "    <tr>\n",
       "      <th>1</th>\n",
       "      <td>Quotes From Allawi Speech (AP) AP - Reaction t...</td>\n",
       "      <td>0</td>\n",
       "    </tr>\n",
       "    <tr>\n",
       "      <th>2</th>\n",
       "      <td>Darfur peace talks seek to break deadlock on k...</td>\n",
       "      <td>0</td>\n",
       "    </tr>\n",
       "    <tr>\n",
       "      <th>3</th>\n",
       "      <td>Newsview: Flawed Candidates Neck and Neck (AP)...</td>\n",
       "      <td>0</td>\n",
       "    </tr>\n",
       "    <tr>\n",
       "      <th>4</th>\n",
       "      <td>Up to 30 Militants Killed by Police in Nigeria...</td>\n",
       "      <td>0</td>\n",
       "    </tr>\n",
       "    <tr>\n",
       "      <th>...</th>\n",
       "      <td>...</td>\n",
       "      <td>...</td>\n",
       "    </tr>\n",
       "    <tr>\n",
       "      <th>1945</th>\n",
       "      <td>Gates to keynote January CES Microsoft head ho...</td>\n",
       "      <td>3</td>\n",
       "    </tr>\n",
       "    <tr>\n",
       "      <th>1946</th>\n",
       "      <td>Allchin: Don't call it \"Shorthorn\" Despite the...</td>\n",
       "      <td>3</td>\n",
       "    </tr>\n",
       "    <tr>\n",
       "      <th>1947</th>\n",
       "      <td>ebay Fun and Holy Toast! The Internet megasite...</td>\n",
       "      <td>3</td>\n",
       "    </tr>\n",
       "    <tr>\n",
       "      <th>1948</th>\n",
       "      <td>28 Identity Theft Suspects Arrested in Transat...</td>\n",
       "      <td>3</td>\n",
       "    </tr>\n",
       "    <tr>\n",
       "      <th>1949</th>\n",
       "      <td>Siebel creates cheaper, SMB software version S...</td>\n",
       "      <td>3</td>\n",
       "    </tr>\n",
       "  </tbody>\n",
       "</table>\n",
       "<p>1950 rows × 2 columns</p>\n",
       "</div>"
      ],
      "text/plain": [
       "                                                   text  label\n",
       "0     Accused Air India bomber is a victim of lies: ...      0\n",
       "1     Quotes From Allawi Speech (AP) AP - Reaction t...      0\n",
       "2     Darfur peace talks seek to break deadlock on k...      0\n",
       "3     Newsview: Flawed Candidates Neck and Neck (AP)...      0\n",
       "4     Up to 30 Militants Killed by Police in Nigeria...      0\n",
       "...                                                 ...    ...\n",
       "1945  Gates to keynote January CES Microsoft head ho...      3\n",
       "1946  Allchin: Don't call it \"Shorthorn\" Despite the...      3\n",
       "1947  ebay Fun and Holy Toast! The Internet megasite...      3\n",
       "1948  28 Identity Theft Suspects Arrested in Transat...      3\n",
       "1949  Siebel creates cheaper, SMB software version S...      3\n",
       "\n",
       "[1950 rows x 2 columns]"
      ]
     },
     "execution_count": 76,
     "metadata": {},
     "output_type": "execute_result"
    }
   ],
   "source": [
    "valid_df"
   ]
  },
  {
   "cell_type": "code",
   "execution_count": 77,
   "metadata": {},
   "outputs": [
    {
     "data": {
      "text/html": [
       "<div>\n",
       "<style scoped>\n",
       "    .dataframe tbody tr th:only-of-type {\n",
       "        vertical-align: middle;\n",
       "    }\n",
       "\n",
       "    .dataframe tbody tr th {\n",
       "        vertical-align: top;\n",
       "    }\n",
       "\n",
       "    .dataframe thead th {\n",
       "        text-align: right;\n",
       "    }\n",
       "</style>\n",
       "<table border=\"1\" class=\"dataframe\">\n",
       "  <thead>\n",
       "    <tr style=\"text-align: right;\">\n",
       "      <th></th>\n",
       "      <th>text</th>\n",
       "      <th>label</th>\n",
       "    </tr>\n",
       "  </thead>\n",
       "  <tbody>\n",
       "    <tr>\n",
       "      <th>0</th>\n",
       "      <td>Japan steps up efforts for Iraq hostage releas...</td>\n",
       "      <td>0</td>\n",
       "    </tr>\n",
       "    <tr>\n",
       "      <th>1</th>\n",
       "      <td>U.N. War Court Transfers First Case to Serbia ...</td>\n",
       "      <td>0</td>\n",
       "    </tr>\n",
       "    <tr>\n",
       "      <th>2</th>\n",
       "      <td>Fallujah Violence Leaves 10 Troops Dead (AP) A...</td>\n",
       "      <td>0</td>\n",
       "    </tr>\n",
       "    <tr>\n",
       "      <th>3</th>\n",
       "      <td>Ivory Coast Leader Urges End to Violence  ABID...</td>\n",
       "      <td>0</td>\n",
       "    </tr>\n",
       "    <tr>\n",
       "      <th>4</th>\n",
       "      <td>Chicoutimi  #39;was seaworthy #39; A submarine...</td>\n",
       "      <td>0</td>\n",
       "    </tr>\n",
       "    <tr>\n",
       "      <th>...</th>\n",
       "      <td>...</td>\n",
       "      <td>...</td>\n",
       "    </tr>\n",
       "    <tr>\n",
       "      <th>1895</th>\n",
       "      <td>Put RSS Feeds On Your Web Page Put RSS Feeds O...</td>\n",
       "      <td>3</td>\n",
       "    </tr>\n",
       "    <tr>\n",
       "      <th>1896</th>\n",
       "      <td>AOL Shows Safe Chat Rooms Secure USB tokens us...</td>\n",
       "      <td>3</td>\n",
       "    </tr>\n",
       "    <tr>\n",
       "      <th>1897</th>\n",
       "      <td>Intel puts in plug for Linux (SiliconValley.co...</td>\n",
       "      <td>3</td>\n",
       "    </tr>\n",
       "    <tr>\n",
       "      <th>1898</th>\n",
       "      <td>Veritas Keeps Reaching into Its Wallet By acqu...</td>\n",
       "      <td>3</td>\n",
       "    </tr>\n",
       "    <tr>\n",
       "      <th>1899</th>\n",
       "      <td>Suse warns of hole in Linux kernel OCTOBER 27,...</td>\n",
       "      <td>3</td>\n",
       "    </tr>\n",
       "  </tbody>\n",
       "</table>\n",
       "<p>1900 rows × 2 columns</p>\n",
       "</div>"
      ],
      "text/plain": [
       "                                                   text  label\n",
       "0     Japan steps up efforts for Iraq hostage releas...      0\n",
       "1     U.N. War Court Transfers First Case to Serbia ...      0\n",
       "2     Fallujah Violence Leaves 10 Troops Dead (AP) A...      0\n",
       "3     Ivory Coast Leader Urges End to Violence  ABID...      0\n",
       "4     Chicoutimi  #39;was seaworthy #39; A submarine...      0\n",
       "...                                                 ...    ...\n",
       "1895  Put RSS Feeds On Your Web Page Put RSS Feeds O...      3\n",
       "1896  AOL Shows Safe Chat Rooms Secure USB tokens us...      3\n",
       "1897  Intel puts in plug for Linux (SiliconValley.co...      3\n",
       "1898  Veritas Keeps Reaching into Its Wallet By acqu...      3\n",
       "1899  Suse warns of hole in Linux kernel OCTOBER 27,...      3\n",
       "\n",
       "[1900 rows x 2 columns]"
      ]
     },
     "execution_count": 77,
     "metadata": {},
     "output_type": "execute_result"
    }
   ],
   "source": [
    "teste_df"
   ]
  },
  {
   "cell_type": "code",
   "execution_count": 78,
   "metadata": {},
   "outputs": [],
   "source": [
    "training_set = list(zip(train_df[\"text\"], train_df[\"label\"]))\n",
    "test_set = list(zip(teste_df[\"text\"], teste_df[\"label\"]))"
   ]
  },
  {
   "cell_type": "code",
   "execution_count": 79,
   "metadata": {},
   "outputs": [],
   "source": [
    "def NDC_gzip(x1,x2):\n",
    "    Cx1x2 = len(gzip.compress(\" \".join([x1 , x2]).encode()))\n",
    "    Cx1 = len(gzip.compress(x1.encode())) \n",
    "    Cx2 = len(gzip.compress(x2.encode()))\n",
    "\n",
    "    return (Cx1x2 - min(Cx1, Cx2)) / max(Cx1, Cx2)\n",
    "\n",
    "def NDC_bz2(x1,x2):\n",
    "    Cx1x2 = len(bz2.compress(\" \".join([x1 , x2]).encode()))\n",
    "    Cx1 = len(bz2.compress(x1.encode())) \n",
    "    Cx2 = len(bz2.compress(x2.encode()))\n",
    "\n",
    "    return (Cx1x2 - min(Cx1, Cx2)) / max(Cx1, Cx2)"
   ]
  },
  {
   "cell_type": "code",
   "execution_count": 80,
   "metadata": {},
   "outputs": [
    {
     "name": "stderr",
     "output_type": "stream",
     "text": [
      "100%|██████████| 158/158 [03:09<00:00,  1.20s/it]\n",
      "100%|██████████| 159/159 [03:10<00:00,  1.20s/it]\n",
      "100%|██████████| 159/159 [03:12<00:00,  1.21s/it]\n",
      "100%|██████████| 159/159 [03:16<00:00,  1.23s/it]\n",
      "100%|██████████| 158/158 [03:16<00:00,  1.24s/it]\n",
      "100%|██████████| 158/158 [03:17<00:00,  1.25s/it]\n",
      "100%|██████████| 158/158 [03:17<00:00,  1.25s/it]\n",
      "100%|██████████| 158/158 [03:18<00:00,  1.26s/it]\n",
      "100%|██████████| 158/158 [03:20<00:00,  1.27s/it]\n",
      "100%|██████████| 158/158 [03:22<00:00,  1.28s/it]\n",
      "100%|██████████| 159/159 [03:22<00:00,  1.27s/it]\n",
      "100%|██████████| 158/158 [03:22<00:00,  1.28s/it]\n"
     ]
    }
   ],
   "source": [
    "def split_list(data, n):\n",
    "    k, m = divmod(len(data), n)\n",
    "    return [data[i * k + min(i, m):(i + 1) * k + min(i + 1, m)] for i in range(n)]\n",
    "\n",
    "def cal_KNN_NDC(test_set):\n",
    "    K = 3\n",
    "    y_hat = []\n",
    "\n",
    "    for (x1 , _) in tqdm(test_set):\n",
    "        distances_to_xtest = []\n",
    "        for (x2 , _) in training_set:\n",
    "            distances_to_xtest.append(NDC_gzip(x1, x2))\n",
    "        \n",
    "        sorted_idx = np.argsort(distances_to_xtest)\n",
    "        k_nearest = sorted_idx[:K]\n",
    "        y_hat.append(training_set[max(set(k_nearest), key=k_nearest.tolist().count)][1])\n",
    "\n",
    "    return y_hat\n",
    "\n",
    "\n",
    "workers = 12\n",
    "\n",
    "results = []\n",
    "with concurrent.futures.ProcessPoolExecutor() as executor:\n",
    "    splited_data =  split_list(test_set, workers)\n",
    "    processed = executor.map(cal_KNN_NDC, splited_data)\n",
    "\n",
    "    for result in processed:\n",
    "        results.append(result)\n",
    "\n",
    "y_hat = [item for sublist in results for item in sublist]"
   ]
  },
  {
   "cell_type": "code",
   "execution_count": 81,
   "metadata": {},
   "outputs": [
    {
     "name": "stdout",
     "output_type": "stream",
     "text": [
      "Accuracy: 0.783157894736842\n",
      "Recall: 0.783157894736842\n",
      "Precision: 0.7833582485719396\n",
      "F1 Score: 0.7823971636566625\n"
     ]
    }
   ],
   "source": [
    "import matplotlib.pyplot as plt\n",
    "from sklearn.metrics import confusion_matrix\n",
    "from sklearn.metrics import recall_score\n",
    "from sklearn.metrics import precision_score\n",
    "from sklearn.metrics import f1_score\n",
    "\n",
    "y_test = [y for (_, y) in test_set]\n",
    "\n",
    "#compute accuracy\n",
    "accuracy = sum([y_hat[i] == y_test[i] for i in range(len(y_test))]) / len(y_test)\n",
    "print(f\"Accuracy: {accuracy}\")\n",
    "\n",
    "#compute recall\n",
    "recall = recall_score(y_test, y_hat, average='macro')\n",
    "print(f\"Recall: {recall}\")\n",
    "\n",
    "#compute precision\n",
    "precision = precision_score(y_test, y_hat, average='macro')\n",
    "print(f\"Precision: {precision}\")\n",
    "\n",
    "#compute f1 score\n",
    "f1 = f1_score(y_test, y_hat, average='macro')\n",
    "print(f\"F1 Score: {f1}\")"
   ]
  },
  {
   "cell_type": "code",
   "execution_count": 82,
   "metadata": {},
   "outputs": [
    {
     "data": {
      "image/png": "[encoded data removed]",
      "text/plain": [
       "<Figure size 800x600 with 2 Axes>"
      ]
     },
     "metadata": {},
     "output_type": "display_data"
    }
   ],
   "source": [
    "conf_matrix = confusion_matrix(y_test, y_hat)\n",
    "\n",
    "plt.figure(figsize=(8, 6))\n",
    "plt.imshow(conf_matrix, interpolation='nearest', cmap=plt.cm.Blues)\n",
    "plt.title('Matriz de Confusão : Modelo gzip + KNN; K = 3')\n",
    "plt.colorbar()\n",
    "\n",
    "\n",
    "tick_marks = np.arange(len(Categories))\n",
    "plt.xticks(tick_marks, Categories, rotation=45)\n",
    "plt.yticks(tick_marks, Categories)\n",
    "\n",
    "\n",
    "thresh = conf_matrix.max() / 2.\n",
    "for i, j in [(i, j) for i in range(conf_matrix.shape[0]) for j in range(conf_matrix.shape[1])]:\n",
    "    plt.text(j, i, conf_matrix[i, j], horizontalalignment=\"center\", color=\"white\" if conf_matrix[i, j] > thresh else \"black\")\n",
    "\n",
    "plt.tight_layout()\n",
    "plt.ylabel('Ground truth')\n",
    "plt.xlabel('Prediction')\n",
    "plt.show()"
   ]
  }
 ],
 "metadata": {
  "kernelspec": {
   "display_name": "venv",
   "language": "python",
   "name": "python3"
  },
  "language_info": {
   "codemirror_mode": {
    "name": "ipython",
    "version": 3
   },
   "file_extension": ".py",
   "mimetype": "text/x-python",
   "name": "python",
   "nbconvert_exporter": "python",
   "pygments_lexer": "ipython3",
   "version": "3.10.12"
  }
 },
 "nbformat": 4,
 "nbformat_minor": 2
}
