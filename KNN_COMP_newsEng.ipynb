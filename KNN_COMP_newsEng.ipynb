{
 "cells": [
  {
   "cell_type": "code",
   "execution_count": 1,
   "metadata": {},
   "outputs": [
    {
     "name": "stderr",
     "output_type": "stream",
     "text": [
      "/home/yvson/Documents/Faculdade/NLP/NLP-final-project/venv/lib/python3.10/site-packages/tqdm/auto.py:21: TqdmWarning: IProgress not found. Please update jupyter and ipywidgets. See https://ipywidgets.readthedocs.io/en/stable/user_install.html\n",
      "  from .autonotebook import tqdm as notebook_tqdm\n"
     ]
    }
   ],
   "source": [
    "import pandas as pd\n",
    "from datasets import load_dataset, dataset_dict\n",
    "import gzip\n",
    "import bz2\n",
    "import numpy as np\n",
    "from tqdm import tqdm\n",
    "import concurrent.futures\n",
    "from sklearn.model_selection import train_test_split"
   ]
  },
  {
   "cell_type": "code",
   "execution_count": 2,
   "metadata": {},
   "outputs": [],
   "source": [
    "dataset = load_dataset(\"ag_news\")"
   ]
  },
  {
   "cell_type": "code",
   "execution_count": 3,
   "metadata": {},
   "outputs": [],
   "source": [
    "train , validation = train_test_split(dataset['train'].to_pandas(), test_size=0.065, random_state=42)"
   ]
  },
  {
   "cell_type": "code",
   "execution_count": 4,
   "metadata": {},
   "outputs": [],
   "source": [
    "def get_balanced_dataset(dataset, percentage):\n",
    "    import warnings\n",
    "    warnings.filterwarnings(\"ignore\", category=DeprecationWarning) \n",
    "    dataset = pd.DataFrame(dataset)\n",
    "    dataset = dataset[['text', 'label']]\n",
    "    dataset = dataset.groupby(\"label\").apply(lambda x: x.sample(frac=percentage)).reset_index(drop=True)\n",
    "    return dataset"
   ]
  },
  {
   "cell_type": "code",
   "execution_count": 5,
   "metadata": {},
   "outputs": [
    {
     "data": {
      "text/plain": [
       "['World', 'Sports', 'Business', 'Sci/Tech']"
      ]
     },
     "execution_count": 5,
     "metadata": {},
     "output_type": "execute_result"
    }
   ],
   "source": [
    "Categories = [\"World\", \"Sports\", \"Business\", \"Sci/Tech\"]\n",
    "Categories"
   ]
  },
  {
   "cell_type": "code",
   "execution_count": 6,
   "metadata": {},
   "outputs": [],
   "source": [
    "perc_train = 0.14\n",
    "perc = 0.25\n",
    "\n",
    "train_df = get_balanced_dataset(train, perc_train)\n",
    "teste_df = get_balanced_dataset(dataset[\"test\"], perc)\n",
    "valid_df = get_balanced_dataset(validation, perc)\n",
    "\n",
    "train_df['Categories'] = train_df['label'].apply(lambda x: Categories[x])\n",
    "\n",
    "# Contagem de labels em cada dataset\n",
    "count_train = train_df['label'].value_counts()\n",
    "count_test = teste_df['label'].value_counts()\n",
    "count_valid = valid_df['label'].value_counts()\n",
    "\n",
    "# Encontrando a menor contagem em cada dataset\n",
    "min_count_train = count_train.min()\n",
    "min_count_test = count_test.min()\n",
    "min_count_valid = count_valid.min()\n",
    "\n",
    "# Fazendo o resample (downsampling) para o dataset de treino\n",
    "train_df = pd.concat([\n",
    "    train_df[train_df['label'] == label].sample(n=min_count_train, random_state=42)\n",
    "    for label in train_df['label'].unique()\n",
    "])\n",
    "\n",
    "# Fazendo o resample (downsampling) para o dataset de teste\n",
    "teste_df = pd.concat([\n",
    "    teste_df[teste_df['label'] == label].sample(n=min_count_test, random_state=42)\n",
    "    for label in teste_df['label'].unique()\n",
    "])\n",
    "\n",
    "# Fazendo o resample (downsampling) para o dataset de validação\n",
    "valid_df = pd.concat([\n",
    "    valid_df[valid_df['label'] == label].sample(n=min_count_valid, random_state=42)\n",
    "    for label in valid_df['label'].unique()\n",
    "])\n",
    "\n",
    "\n",
    "training_set = list(zip(train_df[\"text\"], train_df[\"label\"]))\n",
    "test_set = list(zip(teste_df[\"text\"], teste_df[\"label\"]))\n"
   ]
  },
  {
   "cell_type": "code",
   "execution_count": 9,
   "metadata": {},
   "outputs": [
    {
     "data": {
      "text/plain": [
       "<Axes: title={'center': 'Distribuição das categorias - Treino AGNews'}, xlabel='label'>"
      ]
     },
     "execution_count": 9,
     "metadata": {},
     "output_type": "execute_result"
    },
    {
     "data": {
      "image/png": "[encoded data removed]",
      "text/plain": [
       "<Figure size 640x480 with 1 Axes>"
      ]
     },
     "metadata": {},
     "output_type": "display_data"
    }
   ],
   "source": [
    "pd.DataFrame(valid_df)['label'].value_counts().plot(kind='bar', title='Distribuição das categorias - Treino AGNews')"
   ]
  },
  {
   "cell_type": "code",
   "execution_count": 31,
   "metadata": {},
   "outputs": [
    {
     "data": {
      "text/html": [
       "<div>\n",
       "<style scoped>\n",
       "    .dataframe tbody tr th:only-of-type {\n",
       "        vertical-align: middle;\n",
       "    }\n",
       "\n",
       "    .dataframe tbody tr th {\n",
       "        vertical-align: top;\n",
       "    }\n",
       "\n",
       "    .dataframe thead th {\n",
       "        text-align: right;\n",
       "    }\n",
       "</style>\n",
       "<table border=\"1\" class=\"dataframe\">\n",
       "  <thead>\n",
       "    <tr style=\"text-align: right;\">\n",
       "      <th></th>\n",
       "      <th>text</th>\n",
       "      <th>label</th>\n",
       "      <th>Categories</th>\n",
       "    </tr>\n",
       "  </thead>\n",
       "  <tbody>\n",
       "    <tr>\n",
       "      <th>1593</th>\n",
       "      <td>Pakistan Turns Up No Signs of Bin Laden Pakist...</td>\n",
       "      <td>0</td>\n",
       "      <td>World</td>\n",
       "    </tr>\n",
       "    <tr>\n",
       "      <th>465</th>\n",
       "      <td>Kenya Anti-Graft Chief Resigns The chairman of...</td>\n",
       "      <td>0</td>\n",
       "      <td>World</td>\n",
       "    </tr>\n",
       "    <tr>\n",
       "      <th>1615</th>\n",
       "      <td>US jets hit Fallujah ahead of expected offensi...</td>\n",
       "      <td>0</td>\n",
       "      <td>World</td>\n",
       "    </tr>\n",
       "    <tr>\n",
       "      <th>490</th>\n",
       "      <td>Silent march in France on 100th day of captivi...</td>\n",
       "      <td>0</td>\n",
       "      <td>World</td>\n",
       "    </tr>\n",
       "    <tr>\n",
       "      <th>1926</th>\n",
       "      <td>Funeral held for anti-apartheid Afrikaner The ...</td>\n",
       "      <td>0</td>\n",
       "      <td>World</td>\n",
       "    </tr>\n",
       "    <tr>\n",
       "      <th>...</th>\n",
       "      <td>...</td>\n",
       "      <td>...</td>\n",
       "      <td>...</td>\n",
       "    </tr>\n",
       "    <tr>\n",
       "      <th>13023</th>\n",
       "      <td>Toshiba Third Party Memory Module Failure Tosh...</td>\n",
       "      <td>3</td>\n",
       "      <td>Sci/Tech</td>\n",
       "    </tr>\n",
       "    <tr>\n",
       "      <th>12251</th>\n",
       "      <td>Ex-Austin student indicted for data theft com ...</td>\n",
       "      <td>3</td>\n",
       "      <td>Sci/Tech</td>\n",
       "    </tr>\n",
       "    <tr>\n",
       "      <th>13954</th>\n",
       "      <td>Some Dell AC Adapters Recalled Although seven ...</td>\n",
       "      <td>3</td>\n",
       "      <td>Sci/Tech</td>\n",
       "    </tr>\n",
       "    <tr>\n",
       "      <th>13423</th>\n",
       "      <td>Microsoft checks out new IE security flaw repo...</td>\n",
       "      <td>3</td>\n",
       "      <td>Sci/Tech</td>\n",
       "    </tr>\n",
       "    <tr>\n",
       "      <th>14877</th>\n",
       "      <td>Command  amp; Conquer: Red Alert 3 en camino A...</td>\n",
       "      <td>3</td>\n",
       "      <td>Sci/Tech</td>\n",
       "    </tr>\n",
       "  </tbody>\n",
       "</table>\n",
       "<p>15668 rows × 3 columns</p>\n",
       "</div>"
      ],
      "text/plain": [
       "                                                    text  label Categories\n",
       "1593   Pakistan Turns Up No Signs of Bin Laden Pakist...      0      World\n",
       "465    Kenya Anti-Graft Chief Resigns The chairman of...      0      World\n",
       "1615   US jets hit Fallujah ahead of expected offensi...      0      World\n",
       "490    Silent march in France on 100th day of captivi...      0      World\n",
       "1926   Funeral held for anti-apartheid Afrikaner The ...      0      World\n",
       "...                                                  ...    ...        ...\n",
       "13023  Toshiba Third Party Memory Module Failure Tosh...      3   Sci/Tech\n",
       "12251  Ex-Austin student indicted for data theft com ...      3   Sci/Tech\n",
       "13954  Some Dell AC Adapters Recalled Although seven ...      3   Sci/Tech\n",
       "13423  Microsoft checks out new IE security flaw repo...      3   Sci/Tech\n",
       "14877  Command  amp; Conquer: Red Alert 3 en camino A...      3   Sci/Tech\n",
       "\n",
       "[15668 rows x 3 columns]"
      ]
     },
     "execution_count": 31,
     "metadata": {},
     "output_type": "execute_result"
    }
   ],
   "source": [
    "train_df"
   ]
  },
  {
   "cell_type": "code",
   "execution_count": 32,
   "metadata": {},
   "outputs": [
    {
     "data": {
      "text/html": [
       "<div>\n",
       "<style scoped>\n",
       "    .dataframe tbody tr th:only-of-type {\n",
       "        vertical-align: middle;\n",
       "    }\n",
       "\n",
       "    .dataframe tbody tr th {\n",
       "        vertical-align: top;\n",
       "    }\n",
       "\n",
       "    .dataframe thead th {\n",
       "        text-align: right;\n",
       "    }\n",
       "</style>\n",
       "<table border=\"1\" class=\"dataframe\">\n",
       "  <thead>\n",
       "    <tr style=\"text-align: right;\">\n",
       "      <th></th>\n",
       "      <th>text</th>\n",
       "      <th>label</th>\n",
       "    </tr>\n",
       "  </thead>\n",
       "  <tbody>\n",
       "    <tr>\n",
       "      <th>0</th>\n",
       "      <td>Indian refinery blast injures 16 Sixteen worke...</td>\n",
       "      <td>0</td>\n",
       "    </tr>\n",
       "    <tr>\n",
       "      <th>1</th>\n",
       "      <td>Jailed uprising leader Barghouti will seek Pal...</td>\n",
       "      <td>0</td>\n",
       "    </tr>\n",
       "    <tr>\n",
       "      <th>2</th>\n",
       "      <td>Concern over N Korea missile test Japan will u...</td>\n",
       "      <td>0</td>\n",
       "    </tr>\n",
       "    <tr>\n",
       "      <th>3</th>\n",
       "      <td>Karzai maintains lead in early Afghan vote cou...</td>\n",
       "      <td>0</td>\n",
       "    </tr>\n",
       "    <tr>\n",
       "      <th>4</th>\n",
       "      <td>Agency 'slow tackling jam misery' Motorists su...</td>\n",
       "      <td>0</td>\n",
       "    </tr>\n",
       "    <tr>\n",
       "      <th>...</th>\n",
       "      <td>...</td>\n",
       "      <td>...</td>\n",
       "    </tr>\n",
       "    <tr>\n",
       "      <th>1945</th>\n",
       "      <td>INTERVIEW: Sony Ericsson Chief Sees Slower Gro...</td>\n",
       "      <td>3</td>\n",
       "    </tr>\n",
       "    <tr>\n",
       "      <th>1946</th>\n",
       "      <td>Dilithium has 80 of 3G video telephony test ma...</td>\n",
       "      <td>3</td>\n",
       "    </tr>\n",
       "    <tr>\n",
       "      <th>1947</th>\n",
       "      <td>Genetic Material May Help Make Nano-Devices: S...</td>\n",
       "      <td>3</td>\n",
       "    </tr>\n",
       "    <tr>\n",
       "      <th>1948</th>\n",
       "      <td>Google Phishing Holes Found (NewsFactor) NewsF...</td>\n",
       "      <td>3</td>\n",
       "    </tr>\n",
       "    <tr>\n",
       "      <th>1949</th>\n",
       "      <td>Microsoft Increases Entertainment Focus (AP) A...</td>\n",
       "      <td>3</td>\n",
       "    </tr>\n",
       "  </tbody>\n",
       "</table>\n",
       "<p>1950 rows × 2 columns</p>\n",
       "</div>"
      ],
      "text/plain": [
       "                                                   text  label\n",
       "0     Indian refinery blast injures 16 Sixteen worke...      0\n",
       "1     Jailed uprising leader Barghouti will seek Pal...      0\n",
       "2     Concern over N Korea missile test Japan will u...      0\n",
       "3     Karzai maintains lead in early Afghan vote cou...      0\n",
       "4     Agency 'slow tackling jam misery' Motorists su...      0\n",
       "...                                                 ...    ...\n",
       "1945  INTERVIEW: Sony Ericsson Chief Sees Slower Gro...      3\n",
       "1946  Dilithium has 80 of 3G video telephony test ma...      3\n",
       "1947  Genetic Material May Help Make Nano-Devices: S...      3\n",
       "1948  Google Phishing Holes Found (NewsFactor) NewsF...      3\n",
       "1949  Microsoft Increases Entertainment Focus (AP) A...      3\n",
       "\n",
       "[1950 rows x 2 columns]"
      ]
     },
     "execution_count": 32,
     "metadata": {},
     "output_type": "execute_result"
    }
   ],
   "source": [
    "valid_df"
   ]
  },
  {
   "cell_type": "code",
   "execution_count": 33,
   "metadata": {},
   "outputs": [
    {
     "data": {
      "text/html": [
       "<div>\n",
       "<style scoped>\n",
       "    .dataframe tbody tr th:only-of-type {\n",
       "        vertical-align: middle;\n",
       "    }\n",
       "\n",
       "    .dataframe tbody tr th {\n",
       "        vertical-align: top;\n",
       "    }\n",
       "\n",
       "    .dataframe thead th {\n",
       "        text-align: right;\n",
       "    }\n",
       "</style>\n",
       "<table border=\"1\" class=\"dataframe\">\n",
       "  <thead>\n",
       "    <tr style=\"text-align: right;\">\n",
       "      <th></th>\n",
       "      <th>text</th>\n",
       "      <th>label</th>\n",
       "    </tr>\n",
       "  </thead>\n",
       "  <tbody>\n",
       "    <tr>\n",
       "      <th>375</th>\n",
       "      <td>US Airstrikes Said to Kill at Least 44 in Iraq...</td>\n",
       "      <td>0</td>\n",
       "    </tr>\n",
       "    <tr>\n",
       "      <th>422</th>\n",
       "      <td>Nepal Seeks Talks to End Rebel Blockade of Cap...</td>\n",
       "      <td>0</td>\n",
       "    </tr>\n",
       "    <tr>\n",
       "      <th>9</th>\n",
       "      <td>Vietnam Opens Bunker Used by Ho Chi Minh (AP) ...</td>\n",
       "      <td>0</td>\n",
       "    </tr>\n",
       "    <tr>\n",
       "      <th>73</th>\n",
       "      <td>Sudan Govt rejects call to separate religion, ...</td>\n",
       "      <td>0</td>\n",
       "    </tr>\n",
       "    <tr>\n",
       "      <th>354</th>\n",
       "      <td>Mauritania coup kingpin held Nouakchott, Mauri...</td>\n",
       "      <td>0</td>\n",
       "    </tr>\n",
       "    <tr>\n",
       "      <th>...</th>\n",
       "      <td>...</td>\n",
       "      <td>...</td>\n",
       "    </tr>\n",
       "    <tr>\n",
       "      <th>1531</th>\n",
       "      <td>Ask Jeeves revamps search engine Ask Jeeves In...</td>\n",
       "      <td>3</td>\n",
       "    </tr>\n",
       "    <tr>\n",
       "      <th>1695</th>\n",
       "      <td>Yahoo Doubles Free E-Mail Storage Limits Yahoo...</td>\n",
       "      <td>3</td>\n",
       "    </tr>\n",
       "    <tr>\n",
       "      <th>1773</th>\n",
       "      <td>Microsoft settles antitrust cases with Novell,...</td>\n",
       "      <td>3</td>\n",
       "    </tr>\n",
       "    <tr>\n",
       "      <th>1860</th>\n",
       "      <td>Fixed-to-mobile substitution gaining momentum ...</td>\n",
       "      <td>3</td>\n",
       "    </tr>\n",
       "    <tr>\n",
       "      <th>1527</th>\n",
       "      <td>Blu-ray group mandates Microsoft codec for BD-...</td>\n",
       "      <td>3</td>\n",
       "    </tr>\n",
       "  </tbody>\n",
       "</table>\n",
       "<p>1900 rows × 2 columns</p>\n",
       "</div>"
      ],
      "text/plain": [
       "                                                   text  label\n",
       "375   US Airstrikes Said to Kill at Least 44 in Iraq...      0\n",
       "422   Nepal Seeks Talks to End Rebel Blockade of Cap...      0\n",
       "9     Vietnam Opens Bunker Used by Ho Chi Minh (AP) ...      0\n",
       "73    Sudan Govt rejects call to separate religion, ...      0\n",
       "354   Mauritania coup kingpin held Nouakchott, Mauri...      0\n",
       "...                                                 ...    ...\n",
       "1531  Ask Jeeves revamps search engine Ask Jeeves In...      3\n",
       "1695  Yahoo Doubles Free E-Mail Storage Limits Yahoo...      3\n",
       "1773  Microsoft settles antitrust cases with Novell,...      3\n",
       "1860  Fixed-to-mobile substitution gaining momentum ...      3\n",
       "1527  Blu-ray group mandates Microsoft codec for BD-...      3\n",
       "\n",
       "[1900 rows x 2 columns]"
      ]
     },
     "execution_count": 33,
     "metadata": {},
     "output_type": "execute_result"
    }
   ],
   "source": [
    "teste_df"
   ]
  },
  {
   "cell_type": "code",
   "execution_count": 34,
   "metadata": {},
   "outputs": [],
   "source": [
    "training_set = list(zip(train_df[\"text\"], train_df[\"label\"]))\n",
    "test_set = list(zip(teste_df[\"text\"], teste_df[\"label\"]))"
   ]
  },
  {
   "cell_type": "code",
   "execution_count": 35,
   "metadata": {},
   "outputs": [],
   "source": [
    "def NDC_gzip(x1,x2):\n",
    "    Cx1x2 = len(gzip.compress(\" \".join([x1 , x2]).encode()))\n",
    "    Cx1 = len(gzip.compress(x1.encode())) \n",
    "    Cx2 = len(gzip.compress(x2.encode()))\n",
    "\n",
    "    return (Cx1x2 - min(Cx1, Cx2)) / max(Cx1, Cx2)\n",
    "\n",
    "def NDC_bz2(x1,x2):\n",
    "    Cx1x2 = len(bz2.compress(\" \".join([x1 , x2]).encode()))\n",
    "    Cx1 = len(bz2.compress(x1.encode())) \n",
    "    Cx2 = len(bz2.compress(x2.encode()))\n",
    "\n",
    "    return (Cx1x2 - min(Cx1, Cx2)) / max(Cx1, Cx2)"
   ]
  },
  {
   "cell_type": "code",
   "execution_count": 36,
   "metadata": {},
   "outputs": [
    {
     "name": "stderr",
     "output_type": "stream",
     "text": [
      "100%|██████████| 158/158 [08:13<00:00,  3.13s/it]\n",
      "100%|██████████| 159/159 [08:15<00:00,  3.11s/it]\n",
      "100%|██████████| 158/158 [08:23<00:00,  3.19s/it]\n",
      "100%|██████████| 158/158 [08:26<00:00,  3.20s/it]\n",
      "100%|██████████| 158/158 [08:27<00:00,  3.21s/it]\n",
      "100%|██████████| 159/159 [08:29<00:00,  3.20s/it]\n",
      "100%|██████████| 159/159 [08:30<00:00,  3.21s/it]\n",
      "100%|██████████| 158/158 [08:31<00:00,  3.24s/it]\n",
      "100%|██████████| 158/158 [08:31<00:00,  3.24s/it]\n",
      "100%|██████████| 158/158 [08:34<00:00,  3.26s/it]\n",
      "100%|██████████| 159/159 [08:35<00:00,  3.25s/it]\n",
      "100%|██████████| 158/158 [08:43<00:00,  3.31s/it]\n"
     ]
    }
   ],
   "source": [
    "def split_list(data, n):\n",
    "    k, m = divmod(len(data), n)\n",
    "    return [data[i * k + min(i, m):(i + 1) * k + min(i + 1, m)] for i in range(n)]\n",
    "\n",
    "def cal_KNN_NDC(test_set):\n",
    "    K = 3\n",
    "    y_hat = []\n",
    "\n",
    "    for (x1 , _) in tqdm(test_set):\n",
    "        distances_to_xtest = []\n",
    "        for (x2 , _) in training_set:\n",
    "            distances_to_xtest.append(NDC_bz2(x1, x2))\n",
    "        \n",
    "        sorted_idx = np.argsort(distances_to_xtest)\n",
    "        k_nearest = sorted_idx[:K]\n",
    "        y_hat.append(training_set[max(set(k_nearest), key=k_nearest.tolist().count)][1])\n",
    "\n",
    "    return y_hat\n",
    "\n",
    "\n",
    "workers = 12\n",
    "\n",
    "results = []\n",
    "with concurrent.futures.ProcessPoolExecutor() as executor:\n",
    "    splited_data =  split_list(test_set, workers)\n",
    "    processed = executor.map(cal_KNN_NDC, splited_data)\n",
    "\n",
    "    for result in processed:\n",
    "        results.append(result)\n",
    "\n",
    "y_hat = [item for sublist in results for item in sublist]"
   ]
  },
  {
   "cell_type": "code",
   "execution_count": 37,
   "metadata": {},
   "outputs": [
    {
     "name": "stdout",
     "output_type": "stream",
     "text": [
      "Accuracy: 0.6584210526315789\n",
      "Recall: 0.6584210526315789\n",
      "Precision: 0.6612588142558085\n",
      "F1 Score: 0.6582251046357999\n"
     ]
    }
   ],
   "source": [
    "import matplotlib.pyplot as plt\n",
    "from sklearn.metrics import confusion_matrix\n",
    "from sklearn.metrics import recall_score\n",
    "from sklearn.metrics import precision_score\n",
    "from sklearn.metrics import f1_score\n",
    "\n",
    "y_test = [y for (_, y) in test_set]\n",
    "\n",
    "#compute accuracy\n",
    "accuracy = sum([y_hat[i] == y_test[i] for i in range(len(y_test))]) / len(y_test)\n",
    "print(f\"Accuracy: {accuracy}\")\n",
    "\n",
    "#compute recall\n",
    "recall = recall_score(y_test, y_hat, average='macro')\n",
    "print(f\"Recall: {recall}\")\n",
    "\n",
    "#compute precision\n",
    "precision = precision_score(y_test, y_hat, average='macro')\n",
    "print(f\"Precision: {precision}\")\n",
    "\n",
    "#compute f1 score\n",
    "f1 = f1_score(y_test, y_hat, average='macro')\n",
    "print(f\"F1 Score: {f1}\")"
   ]
  },
  {
   "cell_type": "code",
   "execution_count": 39,
   "metadata": {},
   "outputs": [
    {
     "data": {
      "image/png": "[encoded data removed]",
      "text/plain": [
       "<Figure size 800x600 with 2 Axes>"
      ]
     },
     "metadata": {},
     "output_type": "display_data"
    }
   ],
   "source": [
    "conf_matrix = confusion_matrix(y_test, y_hat)\n",
    "\n",
    "plt.figure(figsize=(8, 6))\n",
    "plt.imshow(conf_matrix, interpolation='nearest', cmap=plt.cm.Blues)\n",
    "plt.title('Matriz de Confusão : Modelo bzip2 + KNN; K = 3')\n",
    "plt.colorbar()\n",
    "\n",
    "\n",
    "tick_marks = np.arange(len(Categories))\n",
    "plt.xticks(tick_marks, Categories, rotation=45)\n",
    "plt.yticks(tick_marks, Categories)\n",
    "\n",
    "\n",
    "thresh = conf_matrix.max() / 2.\n",
    "for i, j in [(i, j) for i in range(conf_matrix.shape[0]) for j in range(conf_matrix.shape[1])]:\n",
    "    plt.text(j, i, conf_matrix[i, j], horizontalalignment=\"center\", color=\"white\" if conf_matrix[i, j] > thresh else \"black\")\n",
    "\n",
    "plt.tight_layout()\n",
    "plt.ylabel('Ground truth')\n",
    "plt.xlabel('Prediction')\n",
    "plt.show()"
   ]
  }
 ],
 "metadata": {
  "kernelspec": {
   "display_name": "venv",
   "language": "python",
   "name": "python3"
  },
  "language_info": {
   "codemirror_mode": {
    "name": "ipython",
    "version": 3
   },
   "file_extension": ".py",
   "mimetype": "text/x-python",
   "name": "python",
   "nbconvert_exporter": "python",
   "pygments_lexer": "ipython3",
   "version": "3.10.12"
  }
 },
 "nbformat": 4,
 "nbformat_minor": 2
}
