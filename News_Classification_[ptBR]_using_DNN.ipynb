{
  "nbformat": 4,
  "nbformat_minor": 0,
  "metadata": {
    "colab": {
      "provenance": [],
      "machine_shape": "hm"
    },
    "kernelspec": {
      "name": "python3",
      "display_name": "Python 3"
    },
    "language_info": {
      "name": "python"
    }
  },
  "cells": [
    {
      "cell_type": "code",
      "execution_count": null,
      "metadata": {
        "colab": {
          "base_uri": "https://localhost:8080/"
        },
        "id": "dtvqjQh60xik",
        "outputId": "5cc2269f-a548-4f07-9273-114e38c9860e"
      },
      "outputs": [
        {
          "output_type": "stream",
          "name": "stdout",
          "text": [
            "Requirement already satisfied: datasets in /usr/local/lib/python3.10/dist-packages (2.19.0)\n",
            "Requirement already satisfied: filelock in /usr/local/lib/python3.10/dist-packages (from datasets) (3.13.4)\n",
            "Requirement already satisfied: numpy>=1.17 in /usr/local/lib/python3.10/dist-packages (from datasets) (1.25.2)\n",
            "Requirement already satisfied: pyarrow>=12.0.0 in /usr/local/lib/python3.10/dist-packages (from datasets) (14.0.2)\n",
            "Requirement already satisfied: pyarrow-hotfix in /usr/local/lib/python3.10/dist-packages (from datasets) (0.6)\n",
            "Requirement already satisfied: dill<0.3.9,>=0.3.0 in /usr/local/lib/python3.10/dist-packages (from datasets) (0.3.8)\n",
            "Requirement already satisfied: pandas in /usr/local/lib/python3.10/dist-packages (from datasets) (2.0.3)\n",
            "Requirement already satisfied: requests>=2.19.0 in /usr/local/lib/python3.10/dist-packages (from datasets) (2.31.0)\n",
            "Requirement already satisfied: tqdm>=4.62.1 in /usr/local/lib/python3.10/dist-packages (from datasets) (4.66.2)\n",
            "Requirement already satisfied: xxhash in /usr/local/lib/python3.10/dist-packages (from datasets) (3.4.1)\n",
            "Requirement already satisfied: multiprocess in /usr/local/lib/python3.10/dist-packages (from datasets) (0.70.16)\n",
            "Requirement already satisfied: fsspec[http]<=2024.3.1,>=2023.1.0 in /usr/local/lib/python3.10/dist-packages (from datasets) (2023.6.0)\n",
            "Requirement already satisfied: aiohttp in /usr/local/lib/python3.10/dist-packages (from datasets) (3.9.5)\n",
            "Requirement already satisfied: huggingface-hub>=0.21.2 in /usr/local/lib/python3.10/dist-packages (from datasets) (0.22.2)\n",
            "Requirement already satisfied: packaging in /usr/local/lib/python3.10/dist-packages (from datasets) (24.0)\n",
            "Requirement already satisfied: pyyaml>=5.1 in /usr/local/lib/python3.10/dist-packages (from datasets) (6.0.1)\n",
            "Requirement already satisfied: aiosignal>=1.1.2 in /usr/local/lib/python3.10/dist-packages (from aiohttp->datasets) (1.3.1)\n",
            "Requirement already satisfied: attrs>=17.3.0 in /usr/local/lib/python3.10/dist-packages (from aiohttp->datasets) (23.2.0)\n",
            "Requirement already satisfied: frozenlist>=1.1.1 in /usr/local/lib/python3.10/dist-packages (from aiohttp->datasets) (1.4.1)\n",
            "Requirement already satisfied: multidict<7.0,>=4.5 in /usr/local/lib/python3.10/dist-packages (from aiohttp->datasets) (6.0.5)\n",
            "Requirement already satisfied: yarl<2.0,>=1.0 in /usr/local/lib/python3.10/dist-packages (from aiohttp->datasets) (1.9.4)\n",
            "Requirement already satisfied: async-timeout<5.0,>=4.0 in /usr/local/lib/python3.10/dist-packages (from aiohttp->datasets) (4.0.3)\n",
            "Requirement already satisfied: typing-extensions>=3.7.4.3 in /usr/local/lib/python3.10/dist-packages (from huggingface-hub>=0.21.2->datasets) (4.11.0)\n",
            "Requirement already satisfied: charset-normalizer<4,>=2 in /usr/local/lib/python3.10/dist-packages (from requests>=2.19.0->datasets) (3.3.2)\n",
            "Requirement already satisfied: idna<4,>=2.5 in /usr/local/lib/python3.10/dist-packages (from requests>=2.19.0->datasets) (3.7)\n",
            "Requirement already satisfied: urllib3<3,>=1.21.1 in /usr/local/lib/python3.10/dist-packages (from requests>=2.19.0->datasets) (2.0.7)\n",
            "Requirement already satisfied: certifi>=2017.4.17 in /usr/local/lib/python3.10/dist-packages (from requests>=2.19.0->datasets) (2024.2.2)\n",
            "Requirement already satisfied: python-dateutil>=2.8.2 in /usr/local/lib/python3.10/dist-packages (from pandas->datasets) (2.8.2)\n",
            "Requirement already satisfied: pytz>=2020.1 in /usr/local/lib/python3.10/dist-packages (from pandas->datasets) (2023.4)\n",
            "Requirement already satisfied: tzdata>=2022.1 in /usr/local/lib/python3.10/dist-packages (from pandas->datasets) (2024.1)\n",
            "Requirement already satisfied: six>=1.5 in /usr/local/lib/python3.10/dist-packages (from python-dateutil>=2.8.2->pandas->datasets) (1.16.0)\n"
          ]
        }
      ],
      "source": [
        "!pip install datasets"
      ]
    },
    {
      "cell_type": "code",
      "source": [
        "import datasets\n",
        "import pandas as pd\n",
        "# Text pre-processing\n",
        "import tensorflow as tf\n",
        "from tensorflow.keras.preprocessing.text import Tokenizer\n",
        "from tensorflow.keras.preprocessing.sequence import pad_sequences\n",
        "from tensorflow.keras.callbacks import EarlyStopping\n",
        "# Modeling\n",
        "from tensorflow.keras.models import Sequential\n",
        "from tensorflow.keras.callbacks import ModelCheckpoint, EarlyStopping, ReduceLROnPlateau\n",
        "from tensorflow.keras.layers import LSTM, GRU, Dense, Embedding, Dropout, GlobalAveragePooling1D, Flatten, SpatialDropout1D, Bidirectional"
      ],
      "metadata": {
        "id": "r6JRTta41SeJ"
      },
      "execution_count": null,
      "outputs": []
    },
    {
      "cell_type": "code",
      "source": [
        "# pegar uma porcentagem do dataset de tal modo que as classes estejam balanceadas\n",
        "def get_balanced_dataset(dataset, percentage):\n",
        "    import warnings\n",
        "    warnings.filterwarnings(\"ignore\", category=DeprecationWarning)\n",
        "    dataset = pd.DataFrame(dataset)\n",
        "    dataset = dataset[[\"Noticia\", \"Categoria\", \"label\"]]\n",
        "    dataset = dataset.groupby(\"Categoria\").apply(lambda x: x.sample(frac=percentage)).reset_index(drop=True)\n",
        "    return dataset\n",
        "\n",
        "def selected_categories(row):\n",
        "    return row[\"Categoria\"] in [\"Política\", \"Internacional\", \"Saúde\", \"Ciência e Tecnologia\", \"Economia\"]"
      ],
      "metadata": {
        "id": "Gqdzf9vg1VJb"
      },
      "execution_count": null,
      "outputs": []
    },
    {
      "cell_type": "code",
      "source": [
        "dataset = datasets.load_dataset(\"recogna-nlp/recognasumm\")"
      ],
      "metadata": {
        "id": "n_HbaMx91Y36"
      },
      "execution_count": null,
      "outputs": []
    },
    {
      "cell_type": "code",
      "source": [
        "len(set(dataset['train']['Categoria']))"
      ],
      "metadata": {
        "colab": {
          "base_uri": "https://localhost:8080/"
        },
        "id": "rU5LqDrR1aJN",
        "outputId": "ba3279be-7577-412f-8cbe-fa2e4fbfc335"
      },
      "execution_count": null,
      "outputs": [
        {
          "output_type": "execute_result",
          "data": {
            "text/plain": [
              "24"
            ]
          },
          "metadata": {},
          "execution_count": 38
        }
      ]
    },
    {
      "cell_type": "code",
      "source": [
        "dataset = dataset.filter(selected_categories)"
      ],
      "metadata": {
        "id": "2aQJhflZ1brQ"
      },
      "execution_count": null,
      "outputs": []
    },
    {
      "cell_type": "code",
      "source": [
        "Categories = [\"Política\", \"Internacional\", \"Saúde\", \"Ciência e Tecnologia\", \"Economia\"]\n",
        "Categories"
      ],
      "metadata": {
        "colab": {
          "base_uri": "https://localhost:8080/"
        },
        "id": "DpgBzAHW1cza",
        "outputId": "9816bdc9-2088-4427-ca3a-7cdfa776d428"
      },
      "execution_count": null,
      "outputs": [
        {
          "output_type": "execute_result",
          "data": {
            "text/plain": [
              "['Política', 'Internacional', 'Saúde', 'Ciência e Tecnologia', 'Economia']"
            ]
          },
          "metadata": {},
          "execution_count": 40
        }
      ]
    },
    {
      "cell_type": "code",
      "source": [
        "def catgeory2label(row):\n",
        "    row[\"label\"] = Categories.index(row[\"Categoria\"])\n",
        "    return row"
      ],
      "metadata": {
        "id": "ncL4MK511d97"
      },
      "execution_count": null,
      "outputs": []
    },
    {
      "cell_type": "code",
      "source": [
        "dataset = dataset.map(catgeory2label)"
      ],
      "metadata": {
        "id": "uH_9wSgd1e9Y"
      },
      "execution_count": null,
      "outputs": []
    },
    {
      "cell_type": "code",
      "source": [
        "pd.DataFrame(dataset['train'])['Categoria'].value_counts().plot(kind='bar', title='Distribuição das categorias')"
      ],
      "metadata": {
        "colab": {
          "base_uri": "https://localhost:8080/",
          "height": 616
        },
        "id": "3l3c39291gcw",
        "outputId": "5d81e6fc-d093-44b9-8626-862c09ed901e"
      },
      "execution_count": null,
      "outputs": [
        {
          "output_type": "execute_result",
          "data": {
            "text/plain": [
              "<Axes: title={'center': 'Distribuição das categorias'}, xlabel='Categoria'>"
            ]
          },
          "metadata": {},
          "execution_count": 43
        },
        {
          "output_type": "display_data",
          "data": {
            "text/plain": [
              "<Figure size 640x480 with 1 Axes>"
            ],
            "image/png": "[encoded data removed]"
          },
          "metadata": {}
        }
      ]
    },
    {
      "cell_type": "code",
      "source": [
        "perc_train = 0.075\n",
        "perc = 0.025\n",
        "\n",
        "train_df = get_balanced_dataset(dataset[\"train\"], perc_train)\n",
        "test_df = get_balanced_dataset(dataset[\"test\"], perc)\n",
        "valid_df = get_balanced_dataset(dataset[\"validation\"], perc)"
      ],
      "metadata": {
        "id": "c0V_sVa61hgQ"
      },
      "execution_count": null,
      "outputs": []
    },
    {
      "cell_type": "code",
      "source": [
        "pd.DataFrame(train_df)['Categoria'].value_counts().plot(kind='bar', title='Distribuição das categorias - Treino RecognaSumm')"
      ],
      "metadata": {
        "colab": {
          "base_uri": "https://localhost:8080/",
          "height": 616
        },
        "id": "ucnX38yG1ivd",
        "outputId": "523c78ce-f8b7-4ca5-8929-e65849517526"
      },
      "execution_count": null,
      "outputs": [
        {
          "output_type": "execute_result",
          "data": {
            "text/plain": [
              "<Axes: title={'center': 'Distribuição das categorias - Treino RecognaSumm'}, xlabel='Categoria'>"
            ]
          },
          "metadata": {},
          "execution_count": 45
        },
        {
          "output_type": "display_data",
          "data": {
            "text/plain": [
              "<Figure size 640x480 with 1 Axes>"
            ],
            "image/png": "[encoded data removed]"
          },
          "metadata": {}
        }
      ]
    },
    {
      "cell_type": "code",
      "source": [
        "train_df['Categoria'].value_counts()"
      ],
      "metadata": {
        "colab": {
          "base_uri": "https://localhost:8080/"
        },
        "id": "ZfBs2T6O1jyC",
        "outputId": "1b868959-9bdd-4c19-8195-c1aac9784a65"
      },
      "execution_count": null,
      "outputs": [
        {
          "output_type": "execute_result",
          "data": {
            "text/plain": [
              "Categoria\n",
              "Política                1307\n",
              "Internacional           1163\n",
              "Saúde                   1068\n",
              "Ciência e Tecnologia     679\n",
              "Economia                 566\n",
              "Name: count, dtype: int64"
            ]
          },
          "metadata": {},
          "execution_count": 46
        }
      ]
    },
    {
      "cell_type": "code",
      "source": [
        "training_set = list(zip(train_df[\"Noticia\"], train_df[\"Categoria\"], train_df[\"label\"]))\n",
        "test_set = list(zip(test_df[\"Noticia\"], test_df[\"Categoria\"], test_df[\"label\"]))"
      ],
      "metadata": {
        "id": "0sw-mhj11lcY"
      },
      "execution_count": null,
      "outputs": []
    },
    {
      "cell_type": "code",
      "source": [
        "pd.DataFrame(test_df)['Categoria'].value_counts().plot(kind='bar')"
      ],
      "metadata": {
        "colab": {
          "base_uri": "https://localhost:8080/",
          "height": 594
        },
        "id": "xIlf93V61mj4",
        "outputId": "fe4aa444-0569-4046-fc9c-abd31f603ac5"
      },
      "execution_count": null,
      "outputs": [
        {
          "output_type": "execute_result",
          "data": {
            "text/plain": [
              "<Axes: xlabel='Categoria'>"
            ]
          },
          "metadata": {},
          "execution_count": 48
        },
        {
          "output_type": "display_data",
          "data": {
            "text/plain": [
              "<Figure size 640x480 with 1 Axes>"
            ],
            "image/png": "[encoded data removed]"
          },
          "metadata": {}
        }
      ]
    },
    {
      "cell_type": "code",
      "source": [
        "class_map = {\n",
        "    \"Política\": 0,\n",
        "    \"Internacional\": 1,\n",
        "    \"Saúde\": 2,\n",
        "    \"Ciência e Tecnologia\": 3,\n",
        "    \"Economia\": 4\n",
        "}"
      ],
      "metadata": {
        "id": "5jIjxgsELVvL"
      },
      "execution_count": null,
      "outputs": []
    },
    {
      "cell_type": "code",
      "source": [
        "train_texts = train_df[\"Noticia\"].to_list()\n",
        "train_labels = train_df[\"label\"].to_list()\n",
        "\n",
        "val_texts = valid_df[\"Noticia\"].to_list()\n",
        "val_labels = valid_df[\"label\"].to_list()\n",
        "\n",
        "test_texts = test_df[\"Noticia\"].to_list()\n",
        "test_labels = test_df[\"label\"].to_list()"
      ],
      "metadata": {
        "id": "l2Rw4q4F1n0a"
      },
      "execution_count": null,
      "outputs": []
    },
    {
      "cell_type": "code",
      "source": [
        "train_df"
      ],
      "metadata": {
        "colab": {
          "base_uri": "https://localhost:8080/",
          "height": 423
        },
        "id": "pUgM5MAi1qu2",
        "outputId": "031b1332-0d64-4549-90fc-8d7329cb7b1d"
      },
      "execution_count": null,
      "outputs": [
        {
          "output_type": "execute_result",
          "data": {
            "text/plain": [
              "                                                Noticia             Categoria  \\\n",
              "0     O noticiário está repleto de pessoas que viver...  Ciência e Tecnologia   \n",
              "1     Leia mais: Além do risco de levar uma multa po...  Ciência e Tecnologia   \n",
              "2     \"Entramos em uma fase de emergência\", disse o ...  Ciência e Tecnologia   \n",
              "3     \"Talvez isso soe como ficção científica\", diz ...  Ciência e Tecnologia   \n",
              "4     Leia também: Imagem: NASA/JPL-Caltech/Space Sc...  Ciência e Tecnologia   \n",
              "...                                                 ...                   ...   \n",
              "4778  \"No final de dezembro de 2019, lembro ter pens...                 Saúde   \n",
              "4779  O Instituto Butantan, por meio do Centro para ...                 Saúde   \n",
              "4780  Nesse cenário, a vacinação do grupo ainda não ...                 Saúde   \n",
              "4781  O país está sendo atingido por uma segunda ond...                 Saúde   \n",
              "4782  A governadora de Tóquio, Yuriko Koike, pediu a...                 Saúde   \n",
              "\n",
              "      label  \n",
              "0         3  \n",
              "1         3  \n",
              "2         3  \n",
              "3         3  \n",
              "4         3  \n",
              "...     ...  \n",
              "4778      2  \n",
              "4779      2  \n",
              "4780      2  \n",
              "4781      2  \n",
              "4782      2  \n",
              "\n",
              "[4783 rows x 3 columns]"
            ],
            "text/html": [
              "\n",
              "  <div id=\"df-0eb948f3-ca91-4f7a-92bc-e12be305a8cb\" class=\"colab-df-container\">\n",
              "    <div>\n",
              "<style scoped>\n",
              "    .dataframe tbody tr th:only-of-type {\n",
              "        vertical-align: middle;\n",
              "    }\n",
              "\n",
              "    .dataframe tbody tr th {\n",
              "        vertical-align: top;\n",
              "    }\n",
              "\n",
              "    .dataframe thead th {\n",
              "        text-align: right;\n",
              "    }\n",
              "</style>\n",
              "<table border=\"1\" class=\"dataframe\">\n",
              "  <thead>\n",
              "    <tr style=\"text-align: right;\">\n",
              "      <th></th>\n",
              "      <th>Noticia</th>\n",
              "      <th>Categoria</th>\n",
              "      <th>label</th>\n",
              "    </tr>\n",
              "  </thead>\n",
              "  <tbody>\n",
              "    <tr>\n",
              "      <th>0</th>\n",
              "      <td>O noticiário está repleto de pessoas que viver...</td>\n",
              "      <td>Ciência e Tecnologia</td>\n",
              "      <td>3</td>\n",
              "    </tr>\n",
              "    <tr>\n",
              "      <th>1</th>\n",
              "      <td>Leia mais: Além do risco de levar uma multa po...</td>\n",
              "      <td>Ciência e Tecnologia</td>\n",
              "      <td>3</td>\n",
              "    </tr>\n",
              "    <tr>\n",
              "      <th>2</th>\n",
              "      <td>\"Entramos em uma fase de emergência\", disse o ...</td>\n",
              "      <td>Ciência e Tecnologia</td>\n",
              "      <td>3</td>\n",
              "    </tr>\n",
              "    <tr>\n",
              "      <th>3</th>\n",
              "      <td>\"Talvez isso soe como ficção científica\", diz ...</td>\n",
              "      <td>Ciência e Tecnologia</td>\n",
              "      <td>3</td>\n",
              "    </tr>\n",
              "    <tr>\n",
              "      <th>4</th>\n",
              "      <td>Leia também: Imagem: NASA/JPL-Caltech/Space Sc...</td>\n",
              "      <td>Ciência e Tecnologia</td>\n",
              "      <td>3</td>\n",
              "    </tr>\n",
              "    <tr>\n",
              "      <th>...</th>\n",
              "      <td>...</td>\n",
              "      <td>...</td>\n",
              "      <td>...</td>\n",
              "    </tr>\n",
              "    <tr>\n",
              "      <th>4778</th>\n",
              "      <td>\"No final de dezembro de 2019, lembro ter pens...</td>\n",
              "      <td>Saúde</td>\n",
              "      <td>2</td>\n",
              "    </tr>\n",
              "    <tr>\n",
              "      <th>4779</th>\n",
              "      <td>O Instituto Butantan, por meio do Centro para ...</td>\n",
              "      <td>Saúde</td>\n",
              "      <td>2</td>\n",
              "    </tr>\n",
              "    <tr>\n",
              "      <th>4780</th>\n",
              "      <td>Nesse cenário, a vacinação do grupo ainda não ...</td>\n",
              "      <td>Saúde</td>\n",
              "      <td>2</td>\n",
              "    </tr>\n",
              "    <tr>\n",
              "      <th>4781</th>\n",
              "      <td>O país está sendo atingido por uma segunda ond...</td>\n",
              "      <td>Saúde</td>\n",
              "      <td>2</td>\n",
              "    </tr>\n",
              "    <tr>\n",
              "      <th>4782</th>\n",
              "      <td>A governadora de Tóquio, Yuriko Koike, pediu a...</td>\n",
              "      <td>Saúde</td>\n",
              "      <td>2</td>\n",
              "    </tr>\n",
              "  </tbody>\n",
              "</table>\n",
              "<p>4783 rows × 3 columns</p>\n",
              "</div>\n",
              "    <div class=\"colab-df-buttons\">\n",
              "\n",
              "  <div class=\"colab-df-container\">\n",
              "    <button class=\"colab-df-convert\" onclick=\"convertToInteractive('df-0eb948f3-ca91-4f7a-92bc-e12be305a8cb')\"\n",
              "            title=\"Convert this dataframe to an interactive table.\"\n",
              "            style=\"display:none;\">\n",
              "\n",
              "  <svg xmlns=\"http://www.w3.org/2000/svg\" height=\"24px\" viewBox=\"0 -960 960 960\">\n",
              "    <path d=\"M120-120v-720h720v720H120Zm60-500h600v-160H180v160Zm220 220h160v-160H400v160Zm0 220h160v-160H400v160ZM180-400h160v-160H180v160Zm440 0h160v-160H620v160ZM180-180h160v-160H180v160Zm440 0h160v-160H620v160Z\"/>\n",
              "  </svg>\n",
              "    </button>\n",
              "\n",
              "  <style>\n",
              "    .colab-df-container {\n",
              "      display:flex;\n",
              "      gap: 12px;\n",
              "    }\n",
              "\n",
              "    .colab-df-convert {\n",
              "      background-color: #E8F0FE;\n",
              "      border: none;\n",
              "      border-radius: 50%;\n",
              "      cursor: pointer;\n",
              "      display: none;\n",
              "      fill: #1967D2;\n",
              "      height: 32px;\n",
              "      padding: 0 0 0 0;\n",
              "      width: 32px;\n",
              "    }\n",
              "\n",
              "    .colab-df-convert:hover {\n",
              "      background-color: #E2EBFA;\n",
              "      box-shadow: 0px 1px 2px rgba(60, 64, 67, 0.3), 0px 1px 3px 1px rgba(60, 64, 67, 0.15);\n",
              "      fill: #174EA6;\n",
              "    }\n",
              "\n",
              "    .colab-df-buttons div {\n",
              "      margin-bottom: 4px;\n",
              "    }\n",
              "\n",
              "    [theme=dark] .colab-df-convert {\n",
              "      background-color: #3B4455;\n",
              "      fill: #D2E3FC;\n",
              "    }\n",
              "\n",
              "    [theme=dark] .colab-df-convert:hover {\n",
              "      background-color: #434B5C;\n",
              "      box-shadow: 0px 1px 3px 1px rgba(0, 0, 0, 0.15);\n",
              "      filter: drop-shadow(0px 1px 2px rgba(0, 0, 0, 0.3));\n",
              "      fill: #FFFFFF;\n",
              "    }\n",
              "  </style>\n",
              "\n",
              "    <script>\n",
              "      const buttonEl =\n",
              "        document.querySelector('#df-0eb948f3-ca91-4f7a-92bc-e12be305a8cb button.colab-df-convert');\n",
              "      buttonEl.style.display =\n",
              "        google.colab.kernel.accessAllowed ? 'block' : 'none';\n",
              "\n",
              "      async function convertToInteractive(key) {\n",
              "        const element = document.querySelector('#df-0eb948f3-ca91-4f7a-92bc-e12be305a8cb');\n",
              "        const dataTable =\n",
              "          await google.colab.kernel.invokeFunction('convertToInteractive',\n",
              "                                                    [key], {});\n",
              "        if (!dataTable) return;\n",
              "\n",
              "        const docLinkHtml = 'Like what you see? Visit the ' +\n",
              "          '<a target=\"_blank\" href=https://colab.research.google.com/notebooks/data_table.ipynb>data table notebook</a>'\n",
              "          + ' to learn more about interactive tables.';\n",
              "        element.innerHTML = '';\n",
              "        dataTable['output_type'] = 'display_data';\n",
              "        await google.colab.output.renderOutput(dataTable, element);\n",
              "        const docLink = document.createElement('div');\n",
              "        docLink.innerHTML = docLinkHtml;\n",
              "        element.appendChild(docLink);\n",
              "      }\n",
              "    </script>\n",
              "  </div>\n",
              "\n",
              "\n",
              "<div id=\"df-e890a797-116c-46ef-85b1-ea3613e78cb0\">\n",
              "  <button class=\"colab-df-quickchart\" onclick=\"quickchart('df-e890a797-116c-46ef-85b1-ea3613e78cb0')\"\n",
              "            title=\"Suggest charts\"\n",
              "            style=\"display:none;\">\n",
              "\n",
              "<svg xmlns=\"http://www.w3.org/2000/svg\" height=\"24px\"viewBox=\"0 0 24 24\"\n",
              "     width=\"24px\">\n",
              "    <g>\n",
              "        <path d=\"M19 3H5c-1.1 0-2 .9-2 2v14c0 1.1.9 2 2 2h14c1.1 0 2-.9 2-2V5c0-1.1-.9-2-2-2zM9 17H7v-7h2v7zm4 0h-2V7h2v10zm4 0h-2v-4h2v4z\"/>\n",
              "    </g>\n",
              "</svg>\n",
              "  </button>\n",
              "\n",
              "<style>\n",
              "  .colab-df-quickchart {\n",
              "      --bg-color: #E8F0FE;\n",
              "      --fill-color: #1967D2;\n",
              "      --hover-bg-color: #E2EBFA;\n",
              "      --hover-fill-color: #174EA6;\n",
              "      --disabled-fill-color: #AAA;\n",
              "      --disabled-bg-color: #DDD;\n",
              "  }\n",
              "\n",
              "  [theme=dark] .colab-df-quickchart {\n",
              "      --bg-color: #3B4455;\n",
              "      --fill-color: #D2E3FC;\n",
              "      --hover-bg-color: #434B5C;\n",
              "      --hover-fill-color: #FFFFFF;\n",
              "      --disabled-bg-color: #3B4455;\n",
              "      --disabled-fill-color: #666;\n",
              "  }\n",
              "\n",
              "  .colab-df-quickchart {\n",
              "    background-color: var(--bg-color);\n",
              "    border: none;\n",
              "    border-radius: 50%;\n",
              "    cursor: pointer;\n",
              "    display: none;\n",
              "    fill: var(--fill-color);\n",
              "    height: 32px;\n",
              "    padding: 0;\n",
              "    width: 32px;\n",
              "  }\n",
              "\n",
              "  .colab-df-quickchart:hover {\n",
              "    background-color: var(--hover-bg-color);\n",
              "    box-shadow: 0 1px 2px rgba(60, 64, 67, 0.3), 0 1px 3px 1px rgba(60, 64, 67, 0.15);\n",
              "    fill: var(--button-hover-fill-color);\n",
              "  }\n",
              "\n",
              "  .colab-df-quickchart-complete:disabled,\n",
              "  .colab-df-quickchart-complete:disabled:hover {\n",
              "    background-color: var(--disabled-bg-color);\n",
              "    fill: var(--disabled-fill-color);\n",
              "    box-shadow: none;\n",
              "  }\n",
              "\n",
              "  .colab-df-spinner {\n",
              "    border: 2px solid var(--fill-color);\n",
              "    border-color: transparent;\n",
              "    border-bottom-color: var(--fill-color);\n",
              "    animation:\n",
              "      spin 1s steps(1) infinite;\n",
              "  }\n",
              "\n",
              "  @keyframes spin {\n",
              "    0% {\n",
              "      border-color: transparent;\n",
              "      border-bottom-color: var(--fill-color);\n",
              "      border-left-color: var(--fill-color);\n",
              "    }\n",
              "    20% {\n",
              "      border-color: transparent;\n",
              "      border-left-color: var(--fill-color);\n",
              "      border-top-color: var(--fill-color);\n",
              "    }\n",
              "    30% {\n",
              "      border-color: transparent;\n",
              "      border-left-color: var(--fill-color);\n",
              "      border-top-color: var(--fill-color);\n",
              "      border-right-color: var(--fill-color);\n",
              "    }\n",
              "    40% {\n",
              "      border-color: transparent;\n",
              "      border-right-color: var(--fill-color);\n",
              "      border-top-color: var(--fill-color);\n",
              "    }\n",
              "    60% {\n",
              "      border-color: transparent;\n",
              "      border-right-color: var(--fill-color);\n",
              "    }\n",
              "    80% {\n",
              "      border-color: transparent;\n",
              "      border-right-color: var(--fill-color);\n",
              "      border-bottom-color: var(--fill-color);\n",
              "    }\n",
              "    90% {\n",
              "      border-color: transparent;\n",
              "      border-bottom-color: var(--fill-color);\n",
              "    }\n",
              "  }\n",
              "</style>\n",
              "\n",
              "  <script>\n",
              "    async function quickchart(key) {\n",
              "      const quickchartButtonEl =\n",
              "        document.querySelector('#' + key + ' button');\n",
              "      quickchartButtonEl.disabled = true;  // To prevent multiple clicks.\n",
              "      quickchartButtonEl.classList.add('colab-df-spinner');\n",
              "      try {\n",
              "        const charts = await google.colab.kernel.invokeFunction(\n",
              "            'suggestCharts', [key], {});\n",
              "      } catch (error) {\n",
              "        console.error('Error during call to suggestCharts:', error);\n",
              "      }\n",
              "      quickchartButtonEl.classList.remove('colab-df-spinner');\n",
              "      quickchartButtonEl.classList.add('colab-df-quickchart-complete');\n",
              "    }\n",
              "    (() => {\n",
              "      let quickchartButtonEl =\n",
              "        document.querySelector('#df-e890a797-116c-46ef-85b1-ea3613e78cb0 button');\n",
              "      quickchartButtonEl.style.display =\n",
              "        google.colab.kernel.accessAllowed ? 'block' : 'none';\n",
              "    })();\n",
              "  </script>\n",
              "</div>\n",
              "\n",
              "  <div id=\"id_b2332d03-8c29-4285-badd-3fd5d96995a3\">\n",
              "    <style>\n",
              "      .colab-df-generate {\n",
              "        background-color: #E8F0FE;\n",
              "        border: none;\n",
              "        border-radius: 50%;\n",
              "        cursor: pointer;\n",
              "        display: none;\n",
              "        fill: #1967D2;\n",
              "        height: 32px;\n",
              "        padding: 0 0 0 0;\n",
              "        width: 32px;\n",
              "      }\n",
              "\n",
              "      .colab-df-generate:hover {\n",
              "        background-color: #E2EBFA;\n",
              "        box-shadow: 0px 1px 2px rgba(60, 64, 67, 0.3), 0px 1px 3px 1px rgba(60, 64, 67, 0.15);\n",
              "        fill: #174EA6;\n",
              "      }\n",
              "\n",
              "      [theme=dark] .colab-df-generate {\n",
              "        background-color: #3B4455;\n",
              "        fill: #D2E3FC;\n",
              "      }\n",
              "\n",
              "      [theme=dark] .colab-df-generate:hover {\n",
              "        background-color: #434B5C;\n",
              "        box-shadow: 0px 1px 3px 1px rgba(0, 0, 0, 0.15);\n",
              "        filter: drop-shadow(0px 1px 2px rgba(0, 0, 0, 0.3));\n",
              "        fill: #FFFFFF;\n",
              "      }\n",
              "    </style>\n",
              "    <button class=\"colab-df-generate\" onclick=\"generateWithVariable('train_df')\"\n",
              "            title=\"Generate code using this dataframe.\"\n",
              "            style=\"display:none;\">\n",
              "\n",
              "  <svg xmlns=\"http://www.w3.org/2000/svg\" height=\"24px\"viewBox=\"0 0 24 24\"\n",
              "       width=\"24px\">\n",
              "    <path d=\"M7,19H8.4L18.45,9,17,7.55,7,17.6ZM5,21V16.75L18.45,3.32a2,2,0,0,1,2.83,0l1.4,1.43a1.91,1.91,0,0,1,.58,1.4,1.91,1.91,0,0,1-.58,1.4L9.25,21ZM18.45,9,17,7.55Zm-12,3A5.31,5.31,0,0,0,4.9,8.1,5.31,5.31,0,0,0,1,6.5,5.31,5.31,0,0,0,4.9,4.9,5.31,5.31,0,0,0,6.5,1,5.31,5.31,0,0,0,8.1,4.9,5.31,5.31,0,0,0,12,6.5,5.46,5.46,0,0,0,6.5,12Z\"/>\n",
              "  </svg>\n",
              "    </button>\n",
              "    <script>\n",
              "      (() => {\n",
              "      const buttonEl =\n",
              "        document.querySelector('#id_b2332d03-8c29-4285-badd-3fd5d96995a3 button.colab-df-generate');\n",
              "      buttonEl.style.display =\n",
              "        google.colab.kernel.accessAllowed ? 'block' : 'none';\n",
              "\n",
              "      buttonEl.onclick = () => {\n",
              "        google.colab.notebook.generateWithVariable('train_df');\n",
              "      }\n",
              "      })();\n",
              "    </script>\n",
              "  </div>\n",
              "\n",
              "    </div>\n",
              "  </div>\n"
            ],
            "application/vnd.google.colaboratory.intrinsic+json": {
              "type": "dataframe",
              "variable_name": "train_df",
              "summary": "{\n  \"name\": \"train_df\",\n  \"rows\": 4783,\n  \"fields\": [\n    {\n      \"column\": \"Noticia\",\n      \"properties\": {\n        \"dtype\": \"string\",\n        \"num_unique_values\": 4763,\n        \"samples\": [\n          \"O custo de combater a infla\\u00e7\\u00e3o \\u00e9 alto para a sociedade e traz impactos \\\"duros no curto prazo\\\", admitiu nesta quarta-feira (5) o presidente do Banco Central, Roberto Campos Neto, referindo-se ao efeito da alta da taxa de juros na economia e no emprego. Ele acrescentou, por\\u00e9m, que o custo de n\\u00e3o combater a infla\\u00e7\\u00e3o \\\"\\u00e9 muito mais alto e tem impactos muito mais nocivos a m\\u00e9dio e longo prazo\\\". LEIA TAMB\\u00c9M: Pacheco engrossa cr\\u00edticas \\u00e0 Selic e quer conversa com Campos Neto Campos Neto diz a investidores que \\u00e9 preciso ter 'um pouco mais de boa vontade' com governo Lula O BC tem avaliado que a alta nos pre\\u00e7os causa preju\\u00edzos, principalmente, \\u00e0 popula\\u00e7\\u00e3o mais pobre, abocanhando proporcionalmente uma parte maior de sua renda, al\\u00e9m de desorganizar a economia e prejudicar o planejamento das empresas. \\\"O custo de combater a infla\\u00e7\\u00e3o \\u00e9 muito alto para a sociedade, e tem impactos duros no curto prazo. Mas o custo de n\\u00e3o combater \\u00e9 muito mais alto e tem impactos muito mais nocivos a m\\u00e9dio e longo prazo. Ent\\u00e3o, nosso trabalho \\u00e9 fazer essa converg\\u00eancia [para as metas de infla\\u00e7\\u00e3o] com o m\\u00ednimo custo poss\\u00edvel\\\", disse Campos Neto, em evento transmitido pela internet. O patamar dos juros brasileiros, em 13,75% ao ano, o que representa a taxa real mais alta do mundo, tem sido criticado reiteradamente pelo presidente Luiz In\\u00e1cio Lula da Silva e integrantes do governo, por desacelerar a economia e influenciar negativamente a gera\\u00e7\\u00e3o de empregos. O BC aut\\u00f4nomo \\u00e9 comandado Campos Neto, indicado pelo ex-presidente Jair Bolsonaro (PL). Segundo Campos Neto, \\u00e9 importante \\\"n\\u00e3o personificar o Banco Central em uma pessoa\\\". \\\"Do mesmo jeito que eu tenho mandato aut\\u00f4nomo em rela\\u00e7\\u00e3o ao Executivo, os diretores t\\u00eam mandato aut\\u00f4nomo em rela\\u00e7\\u00e3o a mim. A gente vai ver cada vez mais um sistema de 'checks and balances' [pesos e contrapesos] no qual n\\u00e3o s\\u00f3 o governo tem menos poder em rela\\u00e7\\u00e3o ao BC e que tamb\\u00e9m eu tenho menos poder em rela\\u00e7\\u00e3o ao BC\\\", afirmou. Arcabou\\u00e7o fiscal Mais cedo, Campos Neto afirmou que a proposta de arcabou\\u00e7o fiscal apresentada pela \\u00e1rea econ\\u00f4mica do governo \\u00e9 \\\"super positiva\\\" e evita uma trajet\\u00f3ria \\\"explosiva\\\" para a d\\u00edvida p\\u00fablica. E explicou que medidas relativas \\u00e0s contas p\\u00fablicas s\\u00e3o importantes, pois afetam o canal de expectativas do mercado financeiro, mas que n\\u00e3o h\\u00e1 uma rela\\u00e7\\u00e3o \\\"mec\\u00e2nica\\\" entre as regras fiscais e a taxa b\\u00e1sica de juros. De acordo com o presidente do BC, a harmonia faz parte da rela\\u00e7\\u00e3o entre o Banco Central e o minist\\u00e9rio, no sentido de que um maior controle sobre os resultados das contas p\\u00fablicas tende a facilitar eventuais cortes de juros. \\\"O canal de expectativas \\u00e9 uma forma de trazer uma promessa a m\\u00e9dio e longo prazo para ter um ganho a valor presente. S\\u00f3 funciona quando o canal funciona bem, e qualquer ru\\u00eddo faz com que o canal fique mais 'entupido'. A gente tem tido um pouco disso [ru\\u00eddo] na pol\\u00edtica monet\\u00e1ria e fiscal. Diminuir o ru\\u00eddo \\u00e9 importante\\\", declarou. Defini\\u00e7\\u00e3o dos juros Para definir o n\\u00edvel dos juros, o Banco Central se baseia no sistema de metas de infla\\u00e7\\u00e3o. Quando a infla\\u00e7\\u00e3o est\\u00e1 alta, o BC eleva a Selic. Quando as estimativas para a infla\\u00e7\\u00e3o est\\u00e3o em linha com as metas, o Banco Central pode reduzir o juro b\\u00e1sico da economia. Neste momento, o BC j\\u00e1 est\\u00e1 ajustando a taxa Selic para tentar atingir a meta de infla\\u00e7\\u00e3o do pr\\u00f3ximo ano, uma vez que as decis\\u00f5es sobre juros demoram de seis a 18 meses para terem impacto pleno na economia. A meta de infla\\u00e7\\u00e3o do pr\\u00f3ximo ano \\u00e9 de 3% e ser\\u00e1 considerada cumprida se oscilar entre 1,5% e 4,5%. Na ata da \\u00faltima reuni\\u00e3o do Copom, quando os juros foram mantidos est\\u00e1veis em 13,75% ao ano, o maior n\\u00edvel em mais de seis anos, o BC avaliou que a infla\\u00e7\\u00e3o ao consumidor continua elevada. Em doze meses at\\u00e9 fevereiro, a infla\\u00e7\\u00e3o oficial somou 5,60%, ainda acima das metas. O grande peso para o resultado do IPCA do m\\u00eas passado foi o grupo de Educa\\u00e7\\u00e3o. Para o Copom, a desacelera\\u00e7\\u00e3o da atividade econ\\u00f4mica em curso \\\"\\u00e9 necess\\u00e1ria para garantir a converg\\u00eancia da infla\\u00e7\\u00e3o para suas metas, particularmente ap\\u00f3s per\\u00edodo prolongado de infla\\u00e7\\u00e3o acima das metas\\\". Isso ocorre, na vis\\u00e3o do Banco Central, porque existe atualmente \\\"uma din\\u00e2mica inflacion\\u00e1ria movida por excessos de demanda, inicialmente em bens e que atualmente se deslocou para o setor de servi\\u00e7os\\\". O Copom informou tamb\\u00e9m que o processo de redu\\u00e7\\u00e3o da infla\\u00e7\\u00e3o \\\"demanda serenidade e paci\\u00eancia na condu\\u00e7\\u00e3o da pol\\u00edtica monet\\u00e1ria [defini\\u00e7\\u00e3o dos juros] para garantir a converg\\u00eancia da infla\\u00e7\\u00e3o para suas metas\\\".\",\n          \"A situa\\u00e7\\u00e3o do Sindicato Estadual dos Profissionais da Educa\\u00e7\\u00e3o (Sepe) na Justi\\u00e7a n\\u00e3o \\u00e9 nada f\\u00e1cil. Recentemente, o Tribunal de Justi\\u00e7a do Rio (TJ-RJ) que determinou o fim da greve, sob pena de multa di\\u00e1ria de R$ 500 mil ao sindicato e R$ 5 mil aos professores, caso a paralisa\\u00e7\\u00e3o n\\u00e3o fosse encerrada. No mesmo dia em que foram notificados, os sindicalistas entraram com recurso na Justi\\u00e7a, que os salvou do pagamento imediato dos valores estipulados, j\\u00e1 que mantiveram a greve \\u2014 que j\\u00e1 dura 45 dias. Entenda: Mesmo sem reajuste, audi\\u00eancia entre sindicato e governo do Rio deve levar a fim da greve Agora, ap\\u00f3s dialogar com a Secretaria estadual de Educa\\u00e7\\u00e3o (Seeduc) em audi\\u00eancia de concilia\\u00e7\\u00e3o na tarde desta quarta-feira (dia 28), o Sepe enxerga uma sa\\u00edda para a sinuca de bico em que se encontra. Nesta quinta-feira (dia 29), haver\\u00e1 uma assembleia da categoria, \\u00e0s 14h, na quadra da escola de samba S\\u00e3o Clemente. Se aceitar o acordo com o governo, o sindicato n\\u00e3o precisar\\u00e1 pagar multas, assim como os dirigentes. O abono dos dias de falta contabilizados desde a \\u00faltima semana tamb\\u00e9m poder\\u00e1 ser feito pelo governo estadual, mediante a apresenta\\u00e7\\u00e3o de um plano de reposi\\u00e7\\u00e3o de aulas por parte dos grevistas. Greve dos professores: Justi\\u00e7a do Rio decreta fim da paralisa\\u00e7\\u00e3o J\\u00e1 que a ilegalidade da greve dos professores foi mantida pela Jusit\\u00e7a, o sindicato tem 24 horas para responder o TJ-RJ, antes que os reveses judiciais passem a pesar contra eles. Para al\\u00e9m do rombo financeiro, se o abono de faltas n\\u00e3o for realizado, \\u00e9 poss\\u00edvel que o governo do estado abra um processo de demiss\\u00e3o contra os grevistas que aderiram \\u00e0 paralisa\\u00e7\\u00e3o \\u2014 cerca de 30% da rede estadual, segundo dados oficiais.. O recurso do Sepe ainda precisa ser julgado no TJ-RJ, o que \\u00e9 motivo de esperan\\u00e7a aos profissionais da Educa\\u00e7\\u00e3o. No entanto, para n\\u00e3o ficar \\u00e0 merc\\u00ea da Justi\\u00e7a fluminense, o sindicato entrou com uma notifica\\u00e7\\u00e3o no Supremo Tribunal Federal (STF), entregue ao ministro Alexandre de Moraes, sorteado para avaliar o pedido do Sepe no STF. Os servidores p\\u00fablicos do estado tamb\\u00e9m ajuizaram uma reclama\\u00e7\\u00e3o constitucional contra a decis\\u00e3o do Tribunal de Justi\\u00e7a do Rio na sede da Ordem dos Advogados do Brasil no Distrito Federal (OAB-DF).\",\n          \"Demitido no ano passado sob acusa\\u00e7\\u00e3o de ass\\u00e9dio sexual e moral a funcion\\u00e1rios, o ex-presidente da Caixa Econ\\u00f4mica Federal Pedro Guimar\\u00e3es poder\\u00e1 ter que arcar com um preju\\u00edzo de cerca de R$ 13,5 milh\\u00f5es causados ao banco. A conta inclui o valor do acordo fechado pela institui\\u00e7\\u00e3o com o Minist\\u00e9rio P\\u00fablico do Trabalho (MPT) para encerrar um processo por danos coletivos, no valor de R$ 10 milh\\u00f5es, al\\u00e9m de R$ 45 mil relativos a cinco aparelhos celulares do modelo iPhone que teriam sido quebrados durante ataques de f\\u00faria de Guimar\\u00e3es, caso revelado pelo site Metr\\u00f3poles. Al\\u00e9m disso, a Caixa se prepara para cobrar judicialmente de Guimar\\u00e3es o valor que o banco foi condenado a pagar ap\\u00f3s o ent\\u00e3o presidente ordenar diretores e executivos a fazer flex\\u00f5es em um evento interno. O gesto motivou o Sindicato dos Banc\\u00e1rios de S\\u00e3o Paulo a acionar a Justi\\u00e7a do Trabalho, alegando \\\"humilha\\u00e7\\u00e3o e constrangimento\\\" aos funcion\\u00e1rios. A senten\\u00e7a em primeira inst\\u00e2ncia estipula uma indeniza\\u00e7\\u00e3o de R$ 3,5 milh\\u00f5es. O banco aguarda apenas o julgamento de recursos para tamb\\u00e9m cobrar a cifra de Guimar\\u00e3es. Procurado, o advogado de Guimar\\u00e3es, Jose Luis Oliveira Lima, classificou a a\\u00e7\\u00e3o da Caixa de \\\"jogada pol\\u00edtica\\\" da nova gest\\u00e3o do banco. O valor cobrado do ex-presidente da Caixa, contudo, ainda pode aumentar. A Corregedoria do banco est\\u00e1 levantando todos os bens danificados por Guimar\\u00e3es durante acessos de raiva para acionar \\u00e0 Justi\\u00e7a pelos preju\\u00edzos. Fazem parte da lista computadores, impressoras e monitores quebrados. Guimar\\u00e3es deixou a Caixa em junho de 2022 ap\\u00f3s uma s\\u00e9rie de den\\u00fancias de abuso sexual e moral contra ele de funcion\\u00e1rios do banco. O caso veio \\u00e0 tona em meados do ano passado, quando o site Metr\\u00f3poles publicou depoimentos das supostas v\\u00edtimas. As den\\u00fancias tamb\\u00e9m s\\u00e3o investigadas pelo Minist\\u00e9rio P\\u00fablico Federal (MPF) e encaminhadas \\u00e0 Justi\\u00e7a, que aceitou o processo, tornando Guimar\\u00e3es r\\u00e9u. O processo corre em sigilo. Guimar\\u00e3es assumiu o comando da Caixa em 2019, no in\\u00edcio do governo do ex-presidente Jair Bolsonaro e se aproximou do mandat\\u00e1rio, sendo presen\\u00e7a constante em suas \\\"lives\\\" semanais e em viagens pelo pa\\u00eds. Em nota, a Caixa confirmou j\\u00e1 ter ingressado com a\\u00e7\\u00e3o judicial para reaver os R$ 10 milh\\u00f5es do acordo com o Minist\\u00e9rio P\\u00fablico do Trabalho e o preju\\u00edzo com os celulares. No caso dos iPhones, o banco abre a possibilidade de Guimar\\u00e3es devolver os aparelhos, que haviam sido danificados, ou o valor correspondente aos modelos. \\\"A Caixa informa que a a\\u00e7\\u00e3o foi proposta perante a Justi\\u00e7a Federal de Bras\\u00edlia-DF, tendo sido distribu\\u00edda para a 20\\u00aa Vara Federal C\\u00edvel da SJDF. O pedido formulado na demanda refere-se \\u00e0 obrigatoriedade de devolu\\u00e7\\u00e3o dos aparelhos telef\\u00f4nicos disponibilizados ao Sr. Pedro Guimar\\u00e3es para o desenvolvimento das suas atividades, enquanto no exerc\\u00edcio da presid\\u00eancia da Caixa, n\\u00e3o devolvidos quando de seu desligamento desta empresa\\\", diz a nota da Caixa. \\\"Caso n\\u00e3o seja poss\\u00edvel a devolu\\u00e7\\u00e3o dos equipamentos, requer-se o pagamento do valor correspondente ao reembolso dos montantes devidos, o que, de acordo com as respectivas notas fiscais, gira em torno de R$ 45 mil\\\", completa o banco.\"\n        ],\n        \"semantic_type\": \"\",\n        \"description\": \"\"\n      }\n    },\n    {\n      \"column\": \"Categoria\",\n      \"properties\": {\n        \"dtype\": \"category\",\n        \"num_unique_values\": 5,\n        \"samples\": [\n          \"Economia\",\n          \"Sa\\u00fade\",\n          \"Internacional\"\n        ],\n        \"semantic_type\": \"\",\n        \"description\": \"\"\n      }\n    },\n    {\n      \"column\": \"label\",\n      \"properties\": {\n        \"dtype\": \"number\",\n        \"std\": 1,\n        \"min\": 0,\n        \"max\": 4,\n        \"num_unique_values\": 5,\n        \"samples\": [\n          4,\n          2,\n          1\n        ],\n        \"semantic_type\": \"\",\n        \"description\": \"\"\n      }\n    }\n  ]\n}"
            }
          },
          "metadata": {},
          "execution_count": 50
        }
      ]
    },
    {
      "cell_type": "code",
      "source": [
        "train_df['Tamanho'] = train_df['Noticia'].apply(len)\n",
        "test_df['Tamanho'] = test_df['Noticia'].apply(len)\n",
        "valid_df['Tamanho'] = valid_df['Noticia'].apply(len)"
      ],
      "metadata": {
        "id": "u5Px_zlq3Sw7"
      },
      "execution_count": null,
      "outputs": []
    },
    {
      "cell_type": "code",
      "source": [
        "train_df"
      ],
      "metadata": {
        "colab": {
          "base_uri": "https://localhost:8080/",
          "height": 423
        },
        "id": "ji7afHrn3Z6j",
        "outputId": "e7e7c48a-ceb4-4b63-dafd-86e61767cf9a"
      },
      "execution_count": null,
      "outputs": [
        {
          "output_type": "execute_result",
          "data": {
            "text/plain": [
              "                                                Noticia             Categoria  \\\n",
              "0     O noticiário está repleto de pessoas que viver...  Ciência e Tecnologia   \n",
              "1     Leia mais: Além do risco de levar uma multa po...  Ciência e Tecnologia   \n",
              "2     \"Entramos em uma fase de emergência\", disse o ...  Ciência e Tecnologia   \n",
              "3     \"Talvez isso soe como ficção científica\", diz ...  Ciência e Tecnologia   \n",
              "4     Leia também: Imagem: NASA/JPL-Caltech/Space Sc...  Ciência e Tecnologia   \n",
              "...                                                 ...                   ...   \n",
              "4778  \"No final de dezembro de 2019, lembro ter pens...                 Saúde   \n",
              "4779  O Instituto Butantan, por meio do Centro para ...                 Saúde   \n",
              "4780  Nesse cenário, a vacinação do grupo ainda não ...                 Saúde   \n",
              "4781  O país está sendo atingido por uma segunda ond...                 Saúde   \n",
              "4782  A governadora de Tóquio, Yuriko Koike, pediu a...                 Saúde   \n",
              "\n",
              "      label  Tamanho  \n",
              "0         3    13325  \n",
              "1         3      578  \n",
              "2         3     1367  \n",
              "3         3     8596  \n",
              "4         3      192  \n",
              "...     ...      ...  \n",
              "4778      2     6300  \n",
              "4779      2     1159  \n",
              "4780      2     2873  \n",
              "4781      2      960  \n",
              "4782      2      714  \n",
              "\n",
              "[4783 rows x 4 columns]"
            ],
            "text/html": [
              "\n",
              "  <div id=\"df-1b4990d2-b1f2-4034-80cb-2f25f0dc37bb\" class=\"colab-df-container\">\n",
              "    <div>\n",
              "<style scoped>\n",
              "    .dataframe tbody tr th:only-of-type {\n",
              "        vertical-align: middle;\n",
              "    }\n",
              "\n",
              "    .dataframe tbody tr th {\n",
              "        vertical-align: top;\n",
              "    }\n",
              "\n",
              "    .dataframe thead th {\n",
              "        text-align: right;\n",
              "    }\n",
              "</style>\n",
              "<table border=\"1\" class=\"dataframe\">\n",
              "  <thead>\n",
              "    <tr style=\"text-align: right;\">\n",
              "      <th></th>\n",
              "      <th>Noticia</th>\n",
              "      <th>Categoria</th>\n",
              "      <th>label</th>\n",
              "      <th>Tamanho</th>\n",
              "    </tr>\n",
              "  </thead>\n",
              "  <tbody>\n",
              "    <tr>\n",
              "      <th>0</th>\n",
              "      <td>O noticiário está repleto de pessoas que viver...</td>\n",
              "      <td>Ciência e Tecnologia</td>\n",
              "      <td>3</td>\n",
              "      <td>13325</td>\n",
              "    </tr>\n",
              "    <tr>\n",
              "      <th>1</th>\n",
              "      <td>Leia mais: Além do risco de levar uma multa po...</td>\n",
              "      <td>Ciência e Tecnologia</td>\n",
              "      <td>3</td>\n",
              "      <td>578</td>\n",
              "    </tr>\n",
              "    <tr>\n",
              "      <th>2</th>\n",
              "      <td>\"Entramos em uma fase de emergência\", disse o ...</td>\n",
              "      <td>Ciência e Tecnologia</td>\n",
              "      <td>3</td>\n",
              "      <td>1367</td>\n",
              "    </tr>\n",
              "    <tr>\n",
              "      <th>3</th>\n",
              "      <td>\"Talvez isso soe como ficção científica\", diz ...</td>\n",
              "      <td>Ciência e Tecnologia</td>\n",
              "      <td>3</td>\n",
              "      <td>8596</td>\n",
              "    </tr>\n",
              "    <tr>\n",
              "      <th>4</th>\n",
              "      <td>Leia também: Imagem: NASA/JPL-Caltech/Space Sc...</td>\n",
              "      <td>Ciência e Tecnologia</td>\n",
              "      <td>3</td>\n",
              "      <td>192</td>\n",
              "    </tr>\n",
              "    <tr>\n",
              "      <th>...</th>\n",
              "      <td>...</td>\n",
              "      <td>...</td>\n",
              "      <td>...</td>\n",
              "      <td>...</td>\n",
              "    </tr>\n",
              "    <tr>\n",
              "      <th>4778</th>\n",
              "      <td>\"No final de dezembro de 2019, lembro ter pens...</td>\n",
              "      <td>Saúde</td>\n",
              "      <td>2</td>\n",
              "      <td>6300</td>\n",
              "    </tr>\n",
              "    <tr>\n",
              "      <th>4779</th>\n",
              "      <td>O Instituto Butantan, por meio do Centro para ...</td>\n",
              "      <td>Saúde</td>\n",
              "      <td>2</td>\n",
              "      <td>1159</td>\n",
              "    </tr>\n",
              "    <tr>\n",
              "      <th>4780</th>\n",
              "      <td>Nesse cenário, a vacinação do grupo ainda não ...</td>\n",
              "      <td>Saúde</td>\n",
              "      <td>2</td>\n",
              "      <td>2873</td>\n",
              "    </tr>\n",
              "    <tr>\n",
              "      <th>4781</th>\n",
              "      <td>O país está sendo atingido por uma segunda ond...</td>\n",
              "      <td>Saúde</td>\n",
              "      <td>2</td>\n",
              "      <td>960</td>\n",
              "    </tr>\n",
              "    <tr>\n",
              "      <th>4782</th>\n",
              "      <td>A governadora de Tóquio, Yuriko Koike, pediu a...</td>\n",
              "      <td>Saúde</td>\n",
              "      <td>2</td>\n",
              "      <td>714</td>\n",
              "    </tr>\n",
              "  </tbody>\n",
              "</table>\n",
              "<p>4783 rows × 4 columns</p>\n",
              "</div>\n",
              "    <div class=\"colab-df-buttons\">\n",
              "\n",
              "  <div class=\"colab-df-container\">\n",
              "    <button class=\"colab-df-convert\" onclick=\"convertToInteractive('df-1b4990d2-b1f2-4034-80cb-2f25f0dc37bb')\"\n",
              "            title=\"Convert this dataframe to an interactive table.\"\n",
              "            style=\"display:none;\">\n",
              "\n",
              "  <svg xmlns=\"http://www.w3.org/2000/svg\" height=\"24px\" viewBox=\"0 -960 960 960\">\n",
              "    <path d=\"M120-120v-720h720v720H120Zm60-500h600v-160H180v160Zm220 220h160v-160H400v160Zm0 220h160v-160H400v160ZM180-400h160v-160H180v160Zm440 0h160v-160H620v160ZM180-180h160v-160H180v160Zm440 0h160v-160H620v160Z\"/>\n",
              "  </svg>\n",
              "    </button>\n",
              "\n",
              "  <style>\n",
              "    .colab-df-container {\n",
              "      display:flex;\n",
              "      gap: 12px;\n",
              "    }\n",
              "\n",
              "    .colab-df-convert {\n",
              "      background-color: #E8F0FE;\n",
              "      border: none;\n",
              "      border-radius: 50%;\n",
              "      cursor: pointer;\n",
              "      display: none;\n",
              "      fill: #1967D2;\n",
              "      height: 32px;\n",
              "      padding: 0 0 0 0;\n",
              "      width: 32px;\n",
              "    }\n",
              "\n",
              "    .colab-df-convert:hover {\n",
              "      background-color: #E2EBFA;\n",
              "      box-shadow: 0px 1px 2px rgba(60, 64, 67, 0.3), 0px 1px 3px 1px rgba(60, 64, 67, 0.15);\n",
              "      fill: #174EA6;\n",
              "    }\n",
              "\n",
              "    .colab-df-buttons div {\n",
              "      margin-bottom: 4px;\n",
              "    }\n",
              "\n",
              "    [theme=dark] .colab-df-convert {\n",
              "      background-color: #3B4455;\n",
              "      fill: #D2E3FC;\n",
              "    }\n",
              "\n",
              "    [theme=dark] .colab-df-convert:hover {\n",
              "      background-color: #434B5C;\n",
              "      box-shadow: 0px 1px 3px 1px rgba(0, 0, 0, 0.15);\n",
              "      filter: drop-shadow(0px 1px 2px rgba(0, 0, 0, 0.3));\n",
              "      fill: #FFFFFF;\n",
              "    }\n",
              "  </style>\n",
              "\n",
              "    <script>\n",
              "      const buttonEl =\n",
              "        document.querySelector('#df-1b4990d2-b1f2-4034-80cb-2f25f0dc37bb button.colab-df-convert');\n",
              "      buttonEl.style.display =\n",
              "        google.colab.kernel.accessAllowed ? 'block' : 'none';\n",
              "\n",
              "      async function convertToInteractive(key) {\n",
              "        const element = document.querySelector('#df-1b4990d2-b1f2-4034-80cb-2f25f0dc37bb');\n",
              "        const dataTable =\n",
              "          await google.colab.kernel.invokeFunction('convertToInteractive',\n",
              "                                                    [key], {});\n",
              "        if (!dataTable) return;\n",
              "\n",
              "        const docLinkHtml = 'Like what you see? Visit the ' +\n",
              "          '<a target=\"_blank\" href=https://colab.research.google.com/notebooks/data_table.ipynb>data table notebook</a>'\n",
              "          + ' to learn more about interactive tables.';\n",
              "        element.innerHTML = '';\n",
              "        dataTable['output_type'] = 'display_data';\n",
              "        await google.colab.output.renderOutput(dataTable, element);\n",
              "        const docLink = document.createElement('div');\n",
              "        docLink.innerHTML = docLinkHtml;\n",
              "        element.appendChild(docLink);\n",
              "      }\n",
              "    </script>\n",
              "  </div>\n",
              "\n",
              "\n",
              "<div id=\"df-fad95f9a-1f41-44f4-be78-2bc3f94dd9c8\">\n",
              "  <button class=\"colab-df-quickchart\" onclick=\"quickchart('df-fad95f9a-1f41-44f4-be78-2bc3f94dd9c8')\"\n",
              "            title=\"Suggest charts\"\n",
              "            style=\"display:none;\">\n",
              "\n",
              "<svg xmlns=\"http://www.w3.org/2000/svg\" height=\"24px\"viewBox=\"0 0 24 24\"\n",
              "     width=\"24px\">\n",
              "    <g>\n",
              "        <path d=\"M19 3H5c-1.1 0-2 .9-2 2v14c0 1.1.9 2 2 2h14c1.1 0 2-.9 2-2V5c0-1.1-.9-2-2-2zM9 17H7v-7h2v7zm4 0h-2V7h2v10zm4 0h-2v-4h2v4z\"/>\n",
              "    </g>\n",
              "</svg>\n",
              "  </button>\n",
              "\n",
              "<style>\n",
              "  .colab-df-quickchart {\n",
              "      --bg-color: #E8F0FE;\n",
              "      --fill-color: #1967D2;\n",
              "      --hover-bg-color: #E2EBFA;\n",
              "      --hover-fill-color: #174EA6;\n",
              "      --disabled-fill-color: #AAA;\n",
              "      --disabled-bg-color: #DDD;\n",
              "  }\n",
              "\n",
              "  [theme=dark] .colab-df-quickchart {\n",
              "      --bg-color: #3B4455;\n",
              "      --fill-color: #D2E3FC;\n",
              "      --hover-bg-color: #434B5C;\n",
              "      --hover-fill-color: #FFFFFF;\n",
              "      --disabled-bg-color: #3B4455;\n",
              "      --disabled-fill-color: #666;\n",
              "  }\n",
              "\n",
              "  .colab-df-quickchart {\n",
              "    background-color: var(--bg-color);\n",
              "    border: none;\n",
              "    border-radius: 50%;\n",
              "    cursor: pointer;\n",
              "    display: none;\n",
              "    fill: var(--fill-color);\n",
              "    height: 32px;\n",
              "    padding: 0;\n",
              "    width: 32px;\n",
              "  }\n",
              "\n",
              "  .colab-df-quickchart:hover {\n",
              "    background-color: var(--hover-bg-color);\n",
              "    box-shadow: 0 1px 2px rgba(60, 64, 67, 0.3), 0 1px 3px 1px rgba(60, 64, 67, 0.15);\n",
              "    fill: var(--button-hover-fill-color);\n",
              "  }\n",
              "\n",
              "  .colab-df-quickchart-complete:disabled,\n",
              "  .colab-df-quickchart-complete:disabled:hover {\n",
              "    background-color: var(--disabled-bg-color);\n",
              "    fill: var(--disabled-fill-color);\n",
              "    box-shadow: none;\n",
              "  }\n",
              "\n",
              "  .colab-df-spinner {\n",
              "    border: 2px solid var(--fill-color);\n",
              "    border-color: transparent;\n",
              "    border-bottom-color: var(--fill-color);\n",
              "    animation:\n",
              "      spin 1s steps(1) infinite;\n",
              "  }\n",
              "\n",
              "  @keyframes spin {\n",
              "    0% {\n",
              "      border-color: transparent;\n",
              "      border-bottom-color: var(--fill-color);\n",
              "      border-left-color: var(--fill-color);\n",
              "    }\n",
              "    20% {\n",
              "      border-color: transparent;\n",
              "      border-left-color: var(--fill-color);\n",
              "      border-top-color: var(--fill-color);\n",
              "    }\n",
              "    30% {\n",
              "      border-color: transparent;\n",
              "      border-left-color: var(--fill-color);\n",
              "      border-top-color: var(--fill-color);\n",
              "      border-right-color: var(--fill-color);\n",
              "    }\n",
              "    40% {\n",
              "      border-color: transparent;\n",
              "      border-right-color: var(--fill-color);\n",
              "      border-top-color: var(--fill-color);\n",
              "    }\n",
              "    60% {\n",
              "      border-color: transparent;\n",
              "      border-right-color: var(--fill-color);\n",
              "    }\n",
              "    80% {\n",
              "      border-color: transparent;\n",
              "      border-right-color: var(--fill-color);\n",
              "      border-bottom-color: var(--fill-color);\n",
              "    }\n",
              "    90% {\n",
              "      border-color: transparent;\n",
              "      border-bottom-color: var(--fill-color);\n",
              "    }\n",
              "  }\n",
              "</style>\n",
              "\n",
              "  <script>\n",
              "    async function quickchart(key) {\n",
              "      const quickchartButtonEl =\n",
              "        document.querySelector('#' + key + ' button');\n",
              "      quickchartButtonEl.disabled = true;  // To prevent multiple clicks.\n",
              "      quickchartButtonEl.classList.add('colab-df-spinner');\n",
              "      try {\n",
              "        const charts = await google.colab.kernel.invokeFunction(\n",
              "            'suggestCharts', [key], {});\n",
              "      } catch (error) {\n",
              "        console.error('Error during call to suggestCharts:', error);\n",
              "      }\n",
              "      quickchartButtonEl.classList.remove('colab-df-spinner');\n",
              "      quickchartButtonEl.classList.add('colab-df-quickchart-complete');\n",
              "    }\n",
              "    (() => {\n",
              "      let quickchartButtonEl =\n",
              "        document.querySelector('#df-fad95f9a-1f41-44f4-be78-2bc3f94dd9c8 button');\n",
              "      quickchartButtonEl.style.display =\n",
              "        google.colab.kernel.accessAllowed ? 'block' : 'none';\n",
              "    })();\n",
              "  </script>\n",
              "</div>\n",
              "\n",
              "  <div id=\"id_2fa05673-3d0c-497e-973a-19f530a0062d\">\n",
              "    <style>\n",
              "      .colab-df-generate {\n",
              "        background-color: #E8F0FE;\n",
              "        border: none;\n",
              "        border-radius: 50%;\n",
              "        cursor: pointer;\n",
              "        display: none;\n",
              "        fill: #1967D2;\n",
              "        height: 32px;\n",
              "        padding: 0 0 0 0;\n",
              "        width: 32px;\n",
              "      }\n",
              "\n",
              "      .colab-df-generate:hover {\n",
              "        background-color: #E2EBFA;\n",
              "        box-shadow: 0px 1px 2px rgba(60, 64, 67, 0.3), 0px 1px 3px 1px rgba(60, 64, 67, 0.15);\n",
              "        fill: #174EA6;\n",
              "      }\n",
              "\n",
              "      [theme=dark] .colab-df-generate {\n",
              "        background-color: #3B4455;\n",
              "        fill: #D2E3FC;\n",
              "      }\n",
              "\n",
              "      [theme=dark] .colab-df-generate:hover {\n",
              "        background-color: #434B5C;\n",
              "        box-shadow: 0px 1px 3px 1px rgba(0, 0, 0, 0.15);\n",
              "        filter: drop-shadow(0px 1px 2px rgba(0, 0, 0, 0.3));\n",
              "        fill: #FFFFFF;\n",
              "      }\n",
              "    </style>\n",
              "    <button class=\"colab-df-generate\" onclick=\"generateWithVariable('train_df')\"\n",
              "            title=\"Generate code using this dataframe.\"\n",
              "            style=\"display:none;\">\n",
              "\n",
              "  <svg xmlns=\"http://www.w3.org/2000/svg\" height=\"24px\"viewBox=\"0 0 24 24\"\n",
              "       width=\"24px\">\n",
              "    <path d=\"M7,19H8.4L18.45,9,17,7.55,7,17.6ZM5,21V16.75L18.45,3.32a2,2,0,0,1,2.83,0l1.4,1.43a1.91,1.91,0,0,1,.58,1.4,1.91,1.91,0,0,1-.58,1.4L9.25,21ZM18.45,9,17,7.55Zm-12,3A5.31,5.31,0,0,0,4.9,8.1,5.31,5.31,0,0,0,1,6.5,5.31,5.31,0,0,0,4.9,4.9,5.31,5.31,0,0,0,6.5,1,5.31,5.31,0,0,0,8.1,4.9,5.31,5.31,0,0,0,12,6.5,5.46,5.46,0,0,0,6.5,12Z\"/>\n",
              "  </svg>\n",
              "    </button>\n",
              "    <script>\n",
              "      (() => {\n",
              "      const buttonEl =\n",
              "        document.querySelector('#id_2fa05673-3d0c-497e-973a-19f530a0062d button.colab-df-generate');\n",
              "      buttonEl.style.display =\n",
              "        google.colab.kernel.accessAllowed ? 'block' : 'none';\n",
              "\n",
              "      buttonEl.onclick = () => {\n",
              "        google.colab.notebook.generateWithVariable('train_df');\n",
              "      }\n",
              "      })();\n",
              "    </script>\n",
              "  </div>\n",
              "\n",
              "    </div>\n",
              "  </div>\n"
            ],
            "application/vnd.google.colaboratory.intrinsic+json": {
              "type": "dataframe",
              "variable_name": "train_df",
              "summary": "{\n  \"name\": \"train_df\",\n  \"rows\": 4783,\n  \"fields\": [\n    {\n      \"column\": \"Noticia\",\n      \"properties\": {\n        \"dtype\": \"string\",\n        \"num_unique_values\": 4763,\n        \"samples\": [\n          \"O custo de combater a infla\\u00e7\\u00e3o \\u00e9 alto para a sociedade e traz impactos \\\"duros no curto prazo\\\", admitiu nesta quarta-feira (5) o presidente do Banco Central, Roberto Campos Neto, referindo-se ao efeito da alta da taxa de juros na economia e no emprego. Ele acrescentou, por\\u00e9m, que o custo de n\\u00e3o combater a infla\\u00e7\\u00e3o \\\"\\u00e9 muito mais alto e tem impactos muito mais nocivos a m\\u00e9dio e longo prazo\\\". LEIA TAMB\\u00c9M: Pacheco engrossa cr\\u00edticas \\u00e0 Selic e quer conversa com Campos Neto Campos Neto diz a investidores que \\u00e9 preciso ter 'um pouco mais de boa vontade' com governo Lula O BC tem avaliado que a alta nos pre\\u00e7os causa preju\\u00edzos, principalmente, \\u00e0 popula\\u00e7\\u00e3o mais pobre, abocanhando proporcionalmente uma parte maior de sua renda, al\\u00e9m de desorganizar a economia e prejudicar o planejamento das empresas. \\\"O custo de combater a infla\\u00e7\\u00e3o \\u00e9 muito alto para a sociedade, e tem impactos duros no curto prazo. Mas o custo de n\\u00e3o combater \\u00e9 muito mais alto e tem impactos muito mais nocivos a m\\u00e9dio e longo prazo. Ent\\u00e3o, nosso trabalho \\u00e9 fazer essa converg\\u00eancia [para as metas de infla\\u00e7\\u00e3o] com o m\\u00ednimo custo poss\\u00edvel\\\", disse Campos Neto, em evento transmitido pela internet. O patamar dos juros brasileiros, em 13,75% ao ano, o que representa a taxa real mais alta do mundo, tem sido criticado reiteradamente pelo presidente Luiz In\\u00e1cio Lula da Silva e integrantes do governo, por desacelerar a economia e influenciar negativamente a gera\\u00e7\\u00e3o de empregos. O BC aut\\u00f4nomo \\u00e9 comandado Campos Neto, indicado pelo ex-presidente Jair Bolsonaro (PL). Segundo Campos Neto, \\u00e9 importante \\\"n\\u00e3o personificar o Banco Central em uma pessoa\\\". \\\"Do mesmo jeito que eu tenho mandato aut\\u00f4nomo em rela\\u00e7\\u00e3o ao Executivo, os diretores t\\u00eam mandato aut\\u00f4nomo em rela\\u00e7\\u00e3o a mim. A gente vai ver cada vez mais um sistema de 'checks and balances' [pesos e contrapesos] no qual n\\u00e3o s\\u00f3 o governo tem menos poder em rela\\u00e7\\u00e3o ao BC e que tamb\\u00e9m eu tenho menos poder em rela\\u00e7\\u00e3o ao BC\\\", afirmou. Arcabou\\u00e7o fiscal Mais cedo, Campos Neto afirmou que a proposta de arcabou\\u00e7o fiscal apresentada pela \\u00e1rea econ\\u00f4mica do governo \\u00e9 \\\"super positiva\\\" e evita uma trajet\\u00f3ria \\\"explosiva\\\" para a d\\u00edvida p\\u00fablica. E explicou que medidas relativas \\u00e0s contas p\\u00fablicas s\\u00e3o importantes, pois afetam o canal de expectativas do mercado financeiro, mas que n\\u00e3o h\\u00e1 uma rela\\u00e7\\u00e3o \\\"mec\\u00e2nica\\\" entre as regras fiscais e a taxa b\\u00e1sica de juros. De acordo com o presidente do BC, a harmonia faz parte da rela\\u00e7\\u00e3o entre o Banco Central e o minist\\u00e9rio, no sentido de que um maior controle sobre os resultados das contas p\\u00fablicas tende a facilitar eventuais cortes de juros. \\\"O canal de expectativas \\u00e9 uma forma de trazer uma promessa a m\\u00e9dio e longo prazo para ter um ganho a valor presente. S\\u00f3 funciona quando o canal funciona bem, e qualquer ru\\u00eddo faz com que o canal fique mais 'entupido'. A gente tem tido um pouco disso [ru\\u00eddo] na pol\\u00edtica monet\\u00e1ria e fiscal. Diminuir o ru\\u00eddo \\u00e9 importante\\\", declarou. Defini\\u00e7\\u00e3o dos juros Para definir o n\\u00edvel dos juros, o Banco Central se baseia no sistema de metas de infla\\u00e7\\u00e3o. Quando a infla\\u00e7\\u00e3o est\\u00e1 alta, o BC eleva a Selic. Quando as estimativas para a infla\\u00e7\\u00e3o est\\u00e3o em linha com as metas, o Banco Central pode reduzir o juro b\\u00e1sico da economia. Neste momento, o BC j\\u00e1 est\\u00e1 ajustando a taxa Selic para tentar atingir a meta de infla\\u00e7\\u00e3o do pr\\u00f3ximo ano, uma vez que as decis\\u00f5es sobre juros demoram de seis a 18 meses para terem impacto pleno na economia. A meta de infla\\u00e7\\u00e3o do pr\\u00f3ximo ano \\u00e9 de 3% e ser\\u00e1 considerada cumprida se oscilar entre 1,5% e 4,5%. Na ata da \\u00faltima reuni\\u00e3o do Copom, quando os juros foram mantidos est\\u00e1veis em 13,75% ao ano, o maior n\\u00edvel em mais de seis anos, o BC avaliou que a infla\\u00e7\\u00e3o ao consumidor continua elevada. Em doze meses at\\u00e9 fevereiro, a infla\\u00e7\\u00e3o oficial somou 5,60%, ainda acima das metas. O grande peso para o resultado do IPCA do m\\u00eas passado foi o grupo de Educa\\u00e7\\u00e3o. Para o Copom, a desacelera\\u00e7\\u00e3o da atividade econ\\u00f4mica em curso \\\"\\u00e9 necess\\u00e1ria para garantir a converg\\u00eancia da infla\\u00e7\\u00e3o para suas metas, particularmente ap\\u00f3s per\\u00edodo prolongado de infla\\u00e7\\u00e3o acima das metas\\\". Isso ocorre, na vis\\u00e3o do Banco Central, porque existe atualmente \\\"uma din\\u00e2mica inflacion\\u00e1ria movida por excessos de demanda, inicialmente em bens e que atualmente se deslocou para o setor de servi\\u00e7os\\\". O Copom informou tamb\\u00e9m que o processo de redu\\u00e7\\u00e3o da infla\\u00e7\\u00e3o \\\"demanda serenidade e paci\\u00eancia na condu\\u00e7\\u00e3o da pol\\u00edtica monet\\u00e1ria [defini\\u00e7\\u00e3o dos juros] para garantir a converg\\u00eancia da infla\\u00e7\\u00e3o para suas metas\\\".\",\n          \"A situa\\u00e7\\u00e3o do Sindicato Estadual dos Profissionais da Educa\\u00e7\\u00e3o (Sepe) na Justi\\u00e7a n\\u00e3o \\u00e9 nada f\\u00e1cil. Recentemente, o Tribunal de Justi\\u00e7a do Rio (TJ-RJ) que determinou o fim da greve, sob pena de multa di\\u00e1ria de R$ 500 mil ao sindicato e R$ 5 mil aos professores, caso a paralisa\\u00e7\\u00e3o n\\u00e3o fosse encerrada. No mesmo dia em que foram notificados, os sindicalistas entraram com recurso na Justi\\u00e7a, que os salvou do pagamento imediato dos valores estipulados, j\\u00e1 que mantiveram a greve \\u2014 que j\\u00e1 dura 45 dias. Entenda: Mesmo sem reajuste, audi\\u00eancia entre sindicato e governo do Rio deve levar a fim da greve Agora, ap\\u00f3s dialogar com a Secretaria estadual de Educa\\u00e7\\u00e3o (Seeduc) em audi\\u00eancia de concilia\\u00e7\\u00e3o na tarde desta quarta-feira (dia 28), o Sepe enxerga uma sa\\u00edda para a sinuca de bico em que se encontra. Nesta quinta-feira (dia 29), haver\\u00e1 uma assembleia da categoria, \\u00e0s 14h, na quadra da escola de samba S\\u00e3o Clemente. Se aceitar o acordo com o governo, o sindicato n\\u00e3o precisar\\u00e1 pagar multas, assim como os dirigentes. O abono dos dias de falta contabilizados desde a \\u00faltima semana tamb\\u00e9m poder\\u00e1 ser feito pelo governo estadual, mediante a apresenta\\u00e7\\u00e3o de um plano de reposi\\u00e7\\u00e3o de aulas por parte dos grevistas. Greve dos professores: Justi\\u00e7a do Rio decreta fim da paralisa\\u00e7\\u00e3o J\\u00e1 que a ilegalidade da greve dos professores foi mantida pela Jusit\\u00e7a, o sindicato tem 24 horas para responder o TJ-RJ, antes que os reveses judiciais passem a pesar contra eles. Para al\\u00e9m do rombo financeiro, se o abono de faltas n\\u00e3o for realizado, \\u00e9 poss\\u00edvel que o governo do estado abra um processo de demiss\\u00e3o contra os grevistas que aderiram \\u00e0 paralisa\\u00e7\\u00e3o \\u2014 cerca de 30% da rede estadual, segundo dados oficiais.. O recurso do Sepe ainda precisa ser julgado no TJ-RJ, o que \\u00e9 motivo de esperan\\u00e7a aos profissionais da Educa\\u00e7\\u00e3o. No entanto, para n\\u00e3o ficar \\u00e0 merc\\u00ea da Justi\\u00e7a fluminense, o sindicato entrou com uma notifica\\u00e7\\u00e3o no Supremo Tribunal Federal (STF), entregue ao ministro Alexandre de Moraes, sorteado para avaliar o pedido do Sepe no STF. Os servidores p\\u00fablicos do estado tamb\\u00e9m ajuizaram uma reclama\\u00e7\\u00e3o constitucional contra a decis\\u00e3o do Tribunal de Justi\\u00e7a do Rio na sede da Ordem dos Advogados do Brasil no Distrito Federal (OAB-DF).\",\n          \"Demitido no ano passado sob acusa\\u00e7\\u00e3o de ass\\u00e9dio sexual e moral a funcion\\u00e1rios, o ex-presidente da Caixa Econ\\u00f4mica Federal Pedro Guimar\\u00e3es poder\\u00e1 ter que arcar com um preju\\u00edzo de cerca de R$ 13,5 milh\\u00f5es causados ao banco. A conta inclui o valor do acordo fechado pela institui\\u00e7\\u00e3o com o Minist\\u00e9rio P\\u00fablico do Trabalho (MPT) para encerrar um processo por danos coletivos, no valor de R$ 10 milh\\u00f5es, al\\u00e9m de R$ 45 mil relativos a cinco aparelhos celulares do modelo iPhone que teriam sido quebrados durante ataques de f\\u00faria de Guimar\\u00e3es, caso revelado pelo site Metr\\u00f3poles. Al\\u00e9m disso, a Caixa se prepara para cobrar judicialmente de Guimar\\u00e3es o valor que o banco foi condenado a pagar ap\\u00f3s o ent\\u00e3o presidente ordenar diretores e executivos a fazer flex\\u00f5es em um evento interno. O gesto motivou o Sindicato dos Banc\\u00e1rios de S\\u00e3o Paulo a acionar a Justi\\u00e7a do Trabalho, alegando \\\"humilha\\u00e7\\u00e3o e constrangimento\\\" aos funcion\\u00e1rios. A senten\\u00e7a em primeira inst\\u00e2ncia estipula uma indeniza\\u00e7\\u00e3o de R$ 3,5 milh\\u00f5es. O banco aguarda apenas o julgamento de recursos para tamb\\u00e9m cobrar a cifra de Guimar\\u00e3es. Procurado, o advogado de Guimar\\u00e3es, Jose Luis Oliveira Lima, classificou a a\\u00e7\\u00e3o da Caixa de \\\"jogada pol\\u00edtica\\\" da nova gest\\u00e3o do banco. O valor cobrado do ex-presidente da Caixa, contudo, ainda pode aumentar. A Corregedoria do banco est\\u00e1 levantando todos os bens danificados por Guimar\\u00e3es durante acessos de raiva para acionar \\u00e0 Justi\\u00e7a pelos preju\\u00edzos. Fazem parte da lista computadores, impressoras e monitores quebrados. Guimar\\u00e3es deixou a Caixa em junho de 2022 ap\\u00f3s uma s\\u00e9rie de den\\u00fancias de abuso sexual e moral contra ele de funcion\\u00e1rios do banco. O caso veio \\u00e0 tona em meados do ano passado, quando o site Metr\\u00f3poles publicou depoimentos das supostas v\\u00edtimas. As den\\u00fancias tamb\\u00e9m s\\u00e3o investigadas pelo Minist\\u00e9rio P\\u00fablico Federal (MPF) e encaminhadas \\u00e0 Justi\\u00e7a, que aceitou o processo, tornando Guimar\\u00e3es r\\u00e9u. O processo corre em sigilo. Guimar\\u00e3es assumiu o comando da Caixa em 2019, no in\\u00edcio do governo do ex-presidente Jair Bolsonaro e se aproximou do mandat\\u00e1rio, sendo presen\\u00e7a constante em suas \\\"lives\\\" semanais e em viagens pelo pa\\u00eds. Em nota, a Caixa confirmou j\\u00e1 ter ingressado com a\\u00e7\\u00e3o judicial para reaver os R$ 10 milh\\u00f5es do acordo com o Minist\\u00e9rio P\\u00fablico do Trabalho e o preju\\u00edzo com os celulares. No caso dos iPhones, o banco abre a possibilidade de Guimar\\u00e3es devolver os aparelhos, que haviam sido danificados, ou o valor correspondente aos modelos. \\\"A Caixa informa que a a\\u00e7\\u00e3o foi proposta perante a Justi\\u00e7a Federal de Bras\\u00edlia-DF, tendo sido distribu\\u00edda para a 20\\u00aa Vara Federal C\\u00edvel da SJDF. O pedido formulado na demanda refere-se \\u00e0 obrigatoriedade de devolu\\u00e7\\u00e3o dos aparelhos telef\\u00f4nicos disponibilizados ao Sr. Pedro Guimar\\u00e3es para o desenvolvimento das suas atividades, enquanto no exerc\\u00edcio da presid\\u00eancia da Caixa, n\\u00e3o devolvidos quando de seu desligamento desta empresa\\\", diz a nota da Caixa. \\\"Caso n\\u00e3o seja poss\\u00edvel a devolu\\u00e7\\u00e3o dos equipamentos, requer-se o pagamento do valor correspondente ao reembolso dos montantes devidos, o que, de acordo com as respectivas notas fiscais, gira em torno de R$ 45 mil\\\", completa o banco.\"\n        ],\n        \"semantic_type\": \"\",\n        \"description\": \"\"\n      }\n    },\n    {\n      \"column\": \"Categoria\",\n      \"properties\": {\n        \"dtype\": \"category\",\n        \"num_unique_values\": 5,\n        \"samples\": [\n          \"Economia\",\n          \"Sa\\u00fade\",\n          \"Internacional\"\n        ],\n        \"semantic_type\": \"\",\n        \"description\": \"\"\n      }\n    },\n    {\n      \"column\": \"label\",\n      \"properties\": {\n        \"dtype\": \"number\",\n        \"std\": 1,\n        \"min\": 0,\n        \"max\": 4,\n        \"num_unique_values\": 5,\n        \"samples\": [\n          4,\n          2,\n          1\n        ],\n        \"semantic_type\": \"\",\n        \"description\": \"\"\n      }\n    },\n    {\n      \"column\": \"Tamanho\",\n      \"properties\": {\n        \"dtype\": \"number\",\n        \"std\": 2458,\n        \"min\": 9,\n        \"max\": 32707,\n        \"num_unique_values\": 3098,\n        \"samples\": [\n          6284,\n          1365,\n          1828\n        ],\n        \"semantic_type\": \"\",\n        \"description\": \"\"\n      }\n    }\n  ]\n}"
            }
          },
          "metadata": {},
          "execution_count": 52
        }
      ]
    },
    {
      "cell_type": "code",
      "source": [
        "median_len = train_df['Tamanho'].median()\n",
        "mean_len = train_df['Tamanho'].mean()"
      ],
      "metadata": {
        "id": "YmqRfqpS3nwa"
      },
      "execution_count": null,
      "outputs": []
    },
    {
      "cell_type": "code",
      "source": [
        "# Defining pre-processing parameters\n",
        "max_len = train_df['Tamanho'].max()\n",
        "trunc_type = 'post'\n",
        "padding_type = 'post'\n",
        "oov_tok = '<OOV>' # out of vocabulary token\n",
        "vocab_size = int(mean_len)"
      ],
      "metadata": {
        "id": "iol87K7u4FId"
      },
      "execution_count": null,
      "outputs": []
    },
    {
      "cell_type": "code",
      "source": [
        "tokenizer = Tokenizer(num_words = vocab_size,\n",
        "                      char_level = False,\n",
        "                      oov_token = oov_tok)\n",
        "tokenizer.fit_on_texts(train_df['Noticia'])"
      ],
      "metadata": {
        "id": "-a_WDcEq4KPG"
      },
      "execution_count": null,
      "outputs": []
    },
    {
      "cell_type": "code",
      "source": [
        "word_index = tokenizer.word_index\n",
        "total_words = len(word_index)\n",
        "total_words"
      ],
      "metadata": {
        "colab": {
          "base_uri": "https://localhost:8080/"
        },
        "id": "gXS6MiO04YBM",
        "outputId": "af8e95b5-14e9-41f9-d04f-4220e4ca4e4a"
      },
      "execution_count": null,
      "outputs": [
        {
          "output_type": "execute_result",
          "data": {
            "text/plain": [
              "71775"
            ]
          },
          "metadata": {},
          "execution_count": 56
        }
      ]
    },
    {
      "cell_type": "code",
      "source": [
        "training_sequences = tokenizer.texts_to_sequences(train_df['Noticia'])\n",
        "training_padded = pad_sequences(training_sequences,\n",
        "                                maxlen = max_len,\n",
        "                                padding = padding_type,\n",
        "                                truncating = trunc_type)"
      ],
      "metadata": {
        "id": "qo9xG67n4cpJ"
      },
      "execution_count": null,
      "outputs": []
    },
    {
      "cell_type": "code",
      "source": [
        "test_sequences = tokenizer.texts_to_sequences(test_df['Noticia'])\n",
        "test_padded = pad_sequences(test_sequences,\n",
        "                               maxlen = max_len,\n",
        "                               padding = padding_type,\n",
        "                               truncating = trunc_type)"
      ],
      "metadata": {
        "id": "Q_cYe5DL66OS"
      },
      "execution_count": null,
      "outputs": []
    },
    {
      "cell_type": "code",
      "source": [
        "valid_sequences = tokenizer.texts_to_sequences(valid_df['Noticia'])\n",
        "valid_padded = pad_sequences(valid_sequences,\n",
        "                               maxlen = max_len,\n",
        "                               padding = padding_type,\n",
        "                               truncating = trunc_type)"
      ],
      "metadata": {
        "id": "2pHoauCu4hgR"
      },
      "execution_count": null,
      "outputs": []
    },
    {
      "cell_type": "code",
      "source": [
        "print('Shape of training tensor: ', training_padded.shape)\n",
        "print('Shape of testing tensor: ', test_padded.shape)\n",
        "print('Shape of testing tensor: ', valid_padded.shape)"
      ],
      "metadata": {
        "colab": {
          "base_uri": "https://localhost:8080/"
        },
        "id": "abF-OgDM4lIH",
        "outputId": "1bd909fd-1712-4150-e528-d524292440a1"
      },
      "execution_count": null,
      "outputs": [
        {
          "output_type": "stream",
          "name": "stdout",
          "text": [
            "Shape of training tensor:  (4783, 32707)\n",
            "Shape of testing tensor:  (530, 32707)\n",
            "Shape of testing tensor:  (533, 32707)\n"
          ]
        }
      ]
    },
    {
      "cell_type": "code",
      "source": [
        "num_classes = 5"
      ],
      "metadata": {
        "id": "h2bAmzal84_E"
      },
      "execution_count": null,
      "outputs": []
    },
    {
      "cell_type": "markdown",
      "source": [
        "### Dense Model"
      ],
      "metadata": {
        "id": "81WSPJOR8zoM"
      }
    },
    {
      "cell_type": "code",
      "source": [
        "# Parameters\n",
        "embedding_dim = 16\n",
        "drop_value = 0.2\n",
        "n_dense = 24\n",
        "# Dense Model Architecture\n",
        "model = Sequential()\n",
        "model.add(Embedding(vocab_size,\n",
        "                    embedding_dim,\n",
        "                    input_length = max_len))\n",
        "model.add(GlobalAveragePooling1D())\n",
        "model.add(Dense(24, activation='relu'))\n",
        "model.add(Dropout(drop_value))\n",
        "model.add(Dense(num_classes, activation='softmax'))"
      ],
      "metadata": {
        "id": "GBD7XWpJ806b"
      },
      "execution_count": null,
      "outputs": []
    },
    {
      "cell_type": "code",
      "source": [
        "model.summary()"
      ],
      "metadata": {
        "colab": {
          "base_uri": "https://localhost:8080/"
        },
        "id": "31aFZF7D9qPy",
        "outputId": "dad5e573-4439-449a-e8a7-5d195e59c82c"
      },
      "execution_count": null,
      "outputs": [
        {
          "output_type": "stream",
          "name": "stdout",
          "text": [
            "Model: \"sequential_1\"\n",
            "_________________________________________________________________\n",
            " Layer (type)                Output Shape              Param #   \n",
            "=================================================================\n",
            " embedding_1 (Embedding)     (None, 32707, 16)         40976     \n",
            "                                                                 \n",
            " global_average_pooling1d_1  (None, 16)                0         \n",
            "  (GlobalAveragePooling1D)                                       \n",
            "                                                                 \n",
            " dense_2 (Dense)             (None, 24)                408       \n",
            "                                                                 \n",
            " dropout_1 (Dropout)         (None, 24)                0         \n",
            "                                                                 \n",
            " dense_3 (Dense)             (None, 5)                 125       \n",
            "                                                                 \n",
            "=================================================================\n",
            "Total params: 41509 (162.14 KB)\n",
            "Trainable params: 41509 (162.14 KB)\n",
            "Non-trainable params: 0 (0.00 Byte)\n",
            "_________________________________________________________________\n"
          ]
        }
      ]
    },
    {
      "cell_type": "code",
      "source": [
        "model.compile(loss = 'sparse_categorical_crossentropy', optimizer = 'adam' , metrics = ['accuracy'])"
      ],
      "metadata": {
        "id": "ST7rTV5m9r_K"
      },
      "execution_count": null,
      "outputs": []
    },
    {
      "cell_type": "code",
      "source": [
        "model_name = \"dense_model.keras\"\n",
        "checkpoint = ModelCheckpoint(model_name,\n",
        "                            monitor=\"val_loss\",\n",
        "                            mode=\"min\",\n",
        "                            save_best_only = True,\n",
        "                            verbose=1)\n",
        "\n",
        "earlystopping = EarlyStopping(monitor='val_loss',min_delta = 0, patience = 5, verbose = 1, restore_best_weights=True)\n",
        "\n",
        "learning_rate_reduction = ReduceLROnPlateau(monitor='val_loss',\n",
        "                                            patience=3,\n",
        "                                            verbose=1,\n",
        "                                            factor=0.2,\n",
        "                                            min_lr=0.000001)"
      ],
      "metadata": {
        "id": "iDolZGyrBtZd"
      },
      "execution_count": null,
      "outputs": []
    },
    {
      "cell_type": "code",
      "source": [
        "num_epochs = 100\n",
        "early_stop = EarlyStopping(monitor='val_loss', patience=3)\n",
        "history = model.fit(training_padded,\n",
        "                    train_df['label'],\n",
        "                    epochs=num_epochs,\n",
        "                    validation_data=(valid_padded, valid_df['label']),\n",
        "                    callbacks=[checkpoint,earlystopping,learning_rate_reduction],\n",
        "                    verbose=2)"
      ],
      "metadata": {
        "colab": {
          "base_uri": "https://localhost:8080/"
        },
        "id": "oIBfd18b9wHc",
        "outputId": "2ed60cd9-af2d-4698-a849-eb5b9bff3260"
      },
      "execution_count": null,
      "outputs": [
        {
          "output_type": "stream",
          "name": "stdout",
          "text": [
            "Epoch 1/100\n",
            "\n",
            "Epoch 1: val_loss improved from inf to 1.56536, saving model to dense_model.keras\n",
            "150/150 - 12s - loss: 1.5832 - accuracy: 0.2636 - val_loss: 1.5654 - val_accuracy: 0.2702 - lr: 0.0010 - 12s/epoch - 78ms/step\n",
            "Epoch 2/100\n",
            "\n",
            "Epoch 2: val_loss improved from 1.56536 to 1.56387, saving model to dense_model.keras\n",
            "150/150 - 10s - loss: 1.5657 - accuracy: 0.2710 - val_loss: 1.5639 - val_accuracy: 0.2702 - lr: 0.0010 - 10s/epoch - 69ms/step\n",
            "Epoch 3/100\n",
            "\n",
            "Epoch 3: val_loss did not improve from 1.56387\n",
            "150/150 - 10s - loss: 1.5656 - accuracy: 0.2685 - val_loss: 1.5640 - val_accuracy: 0.2702 - lr: 0.0010 - 10s/epoch - 68ms/step\n",
            "Epoch 4/100\n",
            "\n",
            "Epoch 4: val_loss improved from 1.56387 to 1.56349, saving model to dense_model.keras\n",
            "150/150 - 10s - loss: 1.5653 - accuracy: 0.2674 - val_loss: 1.5635 - val_accuracy: 0.2702 - lr: 0.0010 - 10s/epoch - 67ms/step\n",
            "Epoch 5/100\n",
            "\n",
            "Epoch 5: val_loss did not improve from 1.56349\n",
            "150/150 - 10s - loss: 1.5649 - accuracy: 0.2678 - val_loss: 1.5636 - val_accuracy: 0.2702 - lr: 0.0010 - 10s/epoch - 67ms/step\n",
            "Epoch 6/100\n",
            "\n",
            "Epoch 6: val_loss improved from 1.56349 to 1.56283, saving model to dense_model.keras\n",
            "150/150 - 10s - loss: 1.5628 - accuracy: 0.2670 - val_loss: 1.5628 - val_accuracy: 0.2702 - lr: 0.0010 - 10s/epoch - 68ms/step\n",
            "Epoch 7/100\n",
            "\n",
            "Epoch 7: val_loss improved from 1.56283 to 1.56266, saving model to dense_model.keras\n",
            "150/150 - 10s - loss: 1.5623 - accuracy: 0.2797 - val_loss: 1.5627 - val_accuracy: 0.2720 - lr: 0.0010 - 10s/epoch - 66ms/step\n",
            "Epoch 8/100\n",
            "\n",
            "Epoch 8: val_loss improved from 1.56266 to 1.56179, saving model to dense_model.keras\n",
            "150/150 - 10s - loss: 1.5622 - accuracy: 0.2739 - val_loss: 1.5618 - val_accuracy: 0.2702 - lr: 0.0010 - 10s/epoch - 67ms/step\n",
            "Epoch 9/100\n",
            "\n",
            "Epoch 9: val_loss improved from 1.56179 to 1.56129, saving model to dense_model.keras\n",
            "150/150 - 10s - loss: 1.5619 - accuracy: 0.2737 - val_loss: 1.5613 - val_accuracy: 0.2739 - lr: 0.0010 - 10s/epoch - 65ms/step\n",
            "Epoch 10/100\n",
            "\n",
            "Epoch 10: val_loss improved from 1.56129 to 1.56040, saving model to dense_model.keras\n",
            "150/150 - 10s - loss: 1.5594 - accuracy: 0.2770 - val_loss: 1.5604 - val_accuracy: 0.2852 - lr: 0.0010 - 10s/epoch - 66ms/step\n",
            "Epoch 11/100\n",
            "\n",
            "Epoch 11: val_loss improved from 1.56040 to 1.55840, saving model to dense_model.keras\n",
            "150/150 - 10s - loss: 1.5585 - accuracy: 0.2843 - val_loss: 1.5584 - val_accuracy: 0.2833 - lr: 0.0010 - 10s/epoch - 66ms/step\n",
            "Epoch 12/100\n",
            "\n",
            "Epoch 12: val_loss improved from 1.55840 to 1.55566, saving model to dense_model.keras\n",
            "150/150 - 10s - loss: 1.5555 - accuracy: 0.2971 - val_loss: 1.5557 - val_accuracy: 0.2833 - lr: 0.0010 - 10s/epoch - 67ms/step\n",
            "Epoch 13/100\n",
            "\n",
            "Epoch 13: val_loss improved from 1.55566 to 1.55361, saving model to dense_model.keras\n",
            "150/150 - 10s - loss: 1.5523 - accuracy: 0.3011 - val_loss: 1.5536 - val_accuracy: 0.3133 - lr: 0.0010 - 10s/epoch - 65ms/step\n",
            "Epoch 14/100\n",
            "\n",
            "Epoch 14: val_loss improved from 1.55361 to 1.54967, saving model to dense_model.keras\n",
            "150/150 - 10s - loss: 1.5474 - accuracy: 0.3069 - val_loss: 1.5497 - val_accuracy: 0.3208 - lr: 0.0010 - 10s/epoch - 64ms/step\n",
            "Epoch 15/100\n",
            "\n",
            "Epoch 15: val_loss improved from 1.54967 to 1.54464, saving model to dense_model.keras\n",
            "150/150 - 10s - loss: 1.5434 - accuracy: 0.3211 - val_loss: 1.5446 - val_accuracy: 0.3208 - lr: 0.0010 - 10s/epoch - 66ms/step\n",
            "Epoch 16/100\n",
            "\n",
            "Epoch 16: val_loss improved from 1.54464 to 1.54193, saving model to dense_model.keras\n",
            "150/150 - 10s - loss: 1.5378 - accuracy: 0.3266 - val_loss: 1.5419 - val_accuracy: 0.3246 - lr: 0.0010 - 10s/epoch - 66ms/step\n",
            "Epoch 17/100\n",
            "\n",
            "Epoch 17: val_loss improved from 1.54193 to 1.53938, saving model to dense_model.keras\n",
            "150/150 - 10s - loss: 1.5321 - accuracy: 0.3282 - val_loss: 1.5394 - val_accuracy: 0.3452 - lr: 0.0010 - 10s/epoch - 65ms/step\n",
            "Epoch 18/100\n",
            "\n",
            "Epoch 18: val_loss improved from 1.53938 to 1.52926, saving model to dense_model.keras\n",
            "150/150 - 10s - loss: 1.5267 - accuracy: 0.3349 - val_loss: 1.5293 - val_accuracy: 0.3283 - lr: 0.0010 - 10s/epoch - 65ms/step\n",
            "Epoch 19/100\n",
            "\n",
            "Epoch 19: val_loss improved from 1.52926 to 1.52275, saving model to dense_model.keras\n",
            "150/150 - 10s - loss: 1.5216 - accuracy: 0.3383 - val_loss: 1.5227 - val_accuracy: 0.3433 - lr: 0.0010 - 10s/epoch - 65ms/step\n",
            "Epoch 20/100\n",
            "\n",
            "Epoch 20: val_loss improved from 1.52275 to 1.51563, saving model to dense_model.keras\n",
            "150/150 - 10s - loss: 1.5127 - accuracy: 0.3529 - val_loss: 1.5156 - val_accuracy: 0.3340 - lr: 0.0010 - 10s/epoch - 65ms/step\n",
            "Epoch 21/100\n",
            "\n",
            "Epoch 21: val_loss improved from 1.51563 to 1.50760, saving model to dense_model.keras\n",
            "150/150 - 10s - loss: 1.5007 - accuracy: 0.3604 - val_loss: 1.5076 - val_accuracy: 0.3865 - lr: 0.0010 - 10s/epoch - 65ms/step\n",
            "Epoch 22/100\n",
            "\n",
            "Epoch 22: val_loss improved from 1.50760 to 1.49302, saving model to dense_model.keras\n",
            "150/150 - 10s - loss: 1.4933 - accuracy: 0.3648 - val_loss: 1.4930 - val_accuracy: 0.3565 - lr: 0.0010 - 10s/epoch - 65ms/step\n",
            "Epoch 23/100\n",
            "\n",
            "Epoch 23: val_loss improved from 1.49302 to 1.48432, saving model to dense_model.keras\n",
            "150/150 - 10s - loss: 1.4816 - accuracy: 0.3747 - val_loss: 1.4843 - val_accuracy: 0.4259 - lr: 0.0010 - 10s/epoch - 66ms/step\n",
            "Epoch 24/100\n",
            "\n",
            "Epoch 24: val_loss improved from 1.48432 to 1.46276, saving model to dense_model.keras\n",
            "150/150 - 10s - loss: 1.4690 - accuracy: 0.3803 - val_loss: 1.4628 - val_accuracy: 0.3809 - lr: 0.0010 - 10s/epoch - 65ms/step\n",
            "Epoch 25/100\n",
            "\n",
            "Epoch 25: val_loss improved from 1.46276 to 1.44985, saving model to dense_model.keras\n",
            "150/150 - 10s - loss: 1.4510 - accuracy: 0.3989 - val_loss: 1.4499 - val_accuracy: 0.4447 - lr: 0.0010 - 10s/epoch - 65ms/step\n",
            "Epoch 26/100\n",
            "\n",
            "Epoch 26: val_loss improved from 1.44985 to 1.42753, saving model to dense_model.keras\n",
            "150/150 - 10s - loss: 1.4312 - accuracy: 0.4077 - val_loss: 1.4275 - val_accuracy: 0.4503 - lr: 0.0010 - 10s/epoch - 64ms/step\n",
            "Epoch 27/100\n",
            "\n",
            "Epoch 27: val_loss improved from 1.42753 to 1.39845, saving model to dense_model.keras\n",
            "150/150 - 10s - loss: 1.4119 - accuracy: 0.4181 - val_loss: 1.3984 - val_accuracy: 0.4428 - lr: 0.0010 - 10s/epoch - 64ms/step\n",
            "Epoch 28/100\n",
            "\n",
            "Epoch 28: val_loss improved from 1.39845 to 1.37388, saving model to dense_model.keras\n",
            "150/150 - 10s - loss: 1.3885 - accuracy: 0.4240 - val_loss: 1.3739 - val_accuracy: 0.4278 - lr: 0.0010 - 10s/epoch - 64ms/step\n",
            "Epoch 29/100\n",
            "\n",
            "Epoch 29: val_loss improved from 1.37388 to 1.35627, saving model to dense_model.keras\n",
            "150/150 - 10s - loss: 1.3742 - accuracy: 0.4305 - val_loss: 1.3563 - val_accuracy: 0.4784 - lr: 0.0010 - 10s/epoch - 65ms/step\n",
            "Epoch 30/100\n",
            "\n",
            "Epoch 30: val_loss improved from 1.35627 to 1.34122, saving model to dense_model.keras\n",
            "150/150 - 10s - loss: 1.3414 - accuracy: 0.4520 - val_loss: 1.3412 - val_accuracy: 0.4109 - lr: 0.0010 - 10s/epoch - 65ms/step\n",
            "Epoch 31/100\n",
            "\n",
            "Epoch 31: val_loss improved from 1.34122 to 1.31497, saving model to dense_model.keras\n",
            "150/150 - 10s - loss: 1.3230 - accuracy: 0.4562 - val_loss: 1.3150 - val_accuracy: 0.4278 - lr: 0.0010 - 10s/epoch - 64ms/step\n",
            "Epoch 32/100\n",
            "\n",
            "Epoch 32: val_loss improved from 1.31497 to 1.29409, saving model to dense_model.keras\n",
            "150/150 - 10s - loss: 1.3126 - accuracy: 0.4621 - val_loss: 1.2941 - val_accuracy: 0.4428 - lr: 0.0010 - 10s/epoch - 64ms/step\n",
            "Epoch 33/100\n",
            "\n",
            "Epoch 33: val_loss improved from 1.29409 to 1.26899, saving model to dense_model.keras\n",
            "150/150 - 9s - loss: 1.2806 - accuracy: 0.4731 - val_loss: 1.2690 - val_accuracy: 0.5066 - lr: 0.0010 - 9s/epoch - 63ms/step\n",
            "Epoch 34/100\n",
            "\n",
            "Epoch 34: val_loss did not improve from 1.26899\n",
            "150/150 - 10s - loss: 1.2609 - accuracy: 0.4894 - val_loss: 1.2719 - val_accuracy: 0.4353 - lr: 0.0010 - 10s/epoch - 64ms/step\n",
            "Epoch 35/100\n",
            "\n",
            "Epoch 35: val_loss improved from 1.26899 to 1.23784, saving model to dense_model.keras\n",
            "150/150 - 10s - loss: 1.2423 - accuracy: 0.4999 - val_loss: 1.2378 - val_accuracy: 0.5328 - lr: 0.0010 - 10s/epoch - 64ms/step\n",
            "Epoch 36/100\n",
            "\n",
            "Epoch 36: val_loss improved from 1.23784 to 1.21621, saving model to dense_model.keras\n",
            "150/150 - 10s - loss: 1.2232 - accuracy: 0.5080 - val_loss: 1.2162 - val_accuracy: 0.5328 - lr: 0.0010 - 10s/epoch - 64ms/step\n",
            "Epoch 37/100\n",
            "\n",
            "Epoch 37: val_loss improved from 1.21621 to 1.20534, saving model to dense_model.keras\n",
            "150/150 - 10s - loss: 1.2087 - accuracy: 0.5175 - val_loss: 1.2053 - val_accuracy: 0.4953 - lr: 0.0010 - 10s/epoch - 65ms/step\n",
            "Epoch 38/100\n",
            "\n",
            "Epoch 38: val_loss improved from 1.20534 to 1.18531, saving model to dense_model.keras\n",
            "150/150 - 9s - loss: 1.1952 - accuracy: 0.5191 - val_loss: 1.1853 - val_accuracy: 0.5760 - lr: 0.0010 - 9s/epoch - 63ms/step\n",
            "Epoch 39/100\n",
            "\n",
            "Epoch 39: val_loss improved from 1.18531 to 1.16963, saving model to dense_model.keras\n",
            "150/150 - 10s - loss: 1.1634 - accuracy: 0.5394 - val_loss: 1.1696 - val_accuracy: 0.5441 - lr: 0.0010 - 10s/epoch - 63ms/step\n",
            "Epoch 40/100\n",
            "\n",
            "Epoch 40: val_loss improved from 1.16963 to 1.15294, saving model to dense_model.keras\n",
            "150/150 - 10s - loss: 1.1544 - accuracy: 0.5515 - val_loss: 1.1529 - val_accuracy: 0.5535 - lr: 0.0010 - 10s/epoch - 64ms/step\n",
            "Epoch 41/100\n",
            "\n",
            "Epoch 41: val_loss improved from 1.15294 to 1.13717, saving model to dense_model.keras\n",
            "150/150 - 10s - loss: 1.1341 - accuracy: 0.5605 - val_loss: 1.1372 - val_accuracy: 0.5704 - lr: 0.0010 - 10s/epoch - 64ms/step\n",
            "Epoch 42/100\n",
            "\n",
            "Epoch 42: val_loss improved from 1.13717 to 1.12801, saving model to dense_model.keras\n",
            "150/150 - 9s - loss: 1.1294 - accuracy: 0.5586 - val_loss: 1.1280 - val_accuracy: 0.5553 - lr: 0.0010 - 9s/epoch - 62ms/step\n",
            "Epoch 43/100\n",
            "\n",
            "Epoch 43: val_loss improved from 1.12801 to 1.11088, saving model to dense_model.keras\n",
            "150/150 - 10s - loss: 1.1067 - accuracy: 0.5674 - val_loss: 1.1109 - val_accuracy: 0.5760 - lr: 0.0010 - 10s/epoch - 64ms/step\n",
            "Epoch 44/100\n",
            "\n",
            "Epoch 44: val_loss did not improve from 1.11088\n",
            "150/150 - 10s - loss: 1.0922 - accuracy: 0.5821 - val_loss: 1.1124 - val_accuracy: 0.5910 - lr: 0.0010 - 10s/epoch - 64ms/step\n",
            "Epoch 45/100\n",
            "\n",
            "Epoch 45: val_loss improved from 1.11088 to 1.10617, saving model to dense_model.keras\n",
            "150/150 - 10s - loss: 1.0869 - accuracy: 0.5852 - val_loss: 1.1062 - val_accuracy: 0.5441 - lr: 0.0010 - 10s/epoch - 64ms/step\n",
            "Epoch 46/100\n",
            "\n",
            "Epoch 46: val_loss improved from 1.10617 to 1.07020, saving model to dense_model.keras\n",
            "150/150 - 9s - loss: 1.0675 - accuracy: 0.5913 - val_loss: 1.0702 - val_accuracy: 0.6360 - lr: 0.0010 - 9s/epoch - 63ms/step\n",
            "Epoch 47/100\n",
            "\n",
            "Epoch 47: val_loss did not improve from 1.07020\n",
            "150/150 - 9s - loss: 1.0507 - accuracy: 0.6109 - val_loss: 1.0737 - val_accuracy: 0.5797 - lr: 0.0010 - 9s/epoch - 63ms/step\n",
            "Epoch 48/100\n",
            "\n",
            "Epoch 48: val_loss improved from 1.07020 to 1.04851, saving model to dense_model.keras\n",
            "150/150 - 10s - loss: 1.0421 - accuracy: 0.6015 - val_loss: 1.0485 - val_accuracy: 0.6398 - lr: 0.0010 - 10s/epoch - 65ms/step\n",
            "Epoch 49/100\n",
            "\n",
            "Epoch 49: val_loss improved from 1.04851 to 1.03762, saving model to dense_model.keras\n",
            "150/150 - 10s - loss: 1.0229 - accuracy: 0.6182 - val_loss: 1.0376 - val_accuracy: 0.6754 - lr: 0.0010 - 10s/epoch - 65ms/step\n",
            "Epoch 50/100\n",
            "\n",
            "Epoch 50: val_loss improved from 1.03762 to 1.02935, saving model to dense_model.keras\n",
            "150/150 - 10s - loss: 1.0242 - accuracy: 0.6153 - val_loss: 1.0293 - val_accuracy: 0.6754 - lr: 0.0010 - 10s/epoch - 65ms/step\n",
            "Epoch 51/100\n",
            "\n",
            "Epoch 51: val_loss improved from 1.02935 to 1.02080, saving model to dense_model.keras\n",
            "150/150 - 10s - loss: 1.0114 - accuracy: 0.6264 - val_loss: 1.0208 - val_accuracy: 0.6754 - lr: 0.0010 - 10s/epoch - 64ms/step\n",
            "Epoch 52/100\n",
            "\n",
            "Epoch 52: val_loss improved from 1.02080 to 1.02026, saving model to dense_model.keras\n",
            "150/150 - 10s - loss: 0.9937 - accuracy: 0.6402 - val_loss: 1.0203 - val_accuracy: 0.6567 - lr: 0.0010 - 10s/epoch - 64ms/step\n",
            "Epoch 53/100\n",
            "\n",
            "Epoch 53: val_loss improved from 1.02026 to 1.00339, saving model to dense_model.keras\n",
            "150/150 - 10s - loss: 0.9862 - accuracy: 0.6347 - val_loss: 1.0034 - val_accuracy: 0.6548 - lr: 0.0010 - 10s/epoch - 64ms/step\n",
            "Epoch 54/100\n",
            "\n",
            "Epoch 54: val_loss improved from 1.00339 to 0.99245, saving model to dense_model.keras\n",
            "150/150 - 10s - loss: 0.9752 - accuracy: 0.6465 - val_loss: 0.9924 - val_accuracy: 0.6717 - lr: 0.0010 - 10s/epoch - 64ms/step\n",
            "Epoch 55/100\n",
            "\n",
            "Epoch 55: val_loss improved from 0.99245 to 0.98837, saving model to dense_model.keras\n",
            "150/150 - 10s - loss: 0.9736 - accuracy: 0.6452 - val_loss: 0.9884 - val_accuracy: 0.6548 - lr: 0.0010 - 10s/epoch - 64ms/step\n",
            "Epoch 56/100\n",
            "\n",
            "Epoch 56: val_loss improved from 0.98837 to 0.97749, saving model to dense_model.keras\n",
            "150/150 - 10s - loss: 0.9572 - accuracy: 0.6603 - val_loss: 0.9775 - val_accuracy: 0.6961 - lr: 0.0010 - 10s/epoch - 63ms/step\n",
            "Epoch 57/100\n",
            "\n",
            "Epoch 57: val_loss improved from 0.97749 to 0.97157, saving model to dense_model.keras\n",
            "150/150 - 10s - loss: 0.9600 - accuracy: 0.6577 - val_loss: 0.9716 - val_accuracy: 0.6717 - lr: 0.0010 - 10s/epoch - 64ms/step\n",
            "Epoch 58/100\n",
            "\n",
            "Epoch 58: val_loss did not improve from 0.97157\n",
            "150/150 - 10s - loss: 0.9488 - accuracy: 0.6529 - val_loss: 0.9729 - val_accuracy: 0.6717 - lr: 0.0010 - 10s/epoch - 64ms/step\n",
            "Epoch 59/100\n",
            "\n",
            "Epoch 59: val_loss improved from 0.97157 to 0.95413, saving model to dense_model.keras\n",
            "150/150 - 10s - loss: 0.9427 - accuracy: 0.6544 - val_loss: 0.9541 - val_accuracy: 0.6942 - lr: 0.0010 - 10s/epoch - 64ms/step\n",
            "Epoch 60/100\n",
            "\n",
            "Epoch 60: val_loss did not improve from 0.95413\n",
            "150/150 - 9s - loss: 0.9288 - accuracy: 0.6692 - val_loss: 0.9636 - val_accuracy: 0.7054 - lr: 0.0010 - 9s/epoch - 63ms/step\n",
            "Epoch 61/100\n",
            "\n",
            "Epoch 61: val_loss did not improve from 0.95413\n",
            "150/150 - 10s - loss: 0.9261 - accuracy: 0.6701 - val_loss: 0.9551 - val_accuracy: 0.6904 - lr: 0.0010 - 10s/epoch - 65ms/step\n",
            "Epoch 62/100\n",
            "\n",
            "Epoch 62: val_loss improved from 0.95413 to 0.94004, saving model to dense_model.keras\n",
            "150/150 - 10s - loss: 0.9158 - accuracy: 0.6741 - val_loss: 0.9400 - val_accuracy: 0.7036 - lr: 0.0010 - 10s/epoch - 64ms/step\n",
            "Epoch 63/100\n",
            "\n",
            "Epoch 63: val_loss improved from 0.94004 to 0.93496, saving model to dense_model.keras\n",
            "150/150 - 10s - loss: 0.9103 - accuracy: 0.6841 - val_loss: 0.9350 - val_accuracy: 0.6829 - lr: 0.0010 - 10s/epoch - 66ms/step\n",
            "Epoch 64/100\n",
            "\n",
            "Epoch 64: val_loss improved from 0.93496 to 0.93418, saving model to dense_model.keras\n",
            "150/150 - 10s - loss: 0.9111 - accuracy: 0.6774 - val_loss: 0.9342 - val_accuracy: 0.6829 - lr: 0.0010 - 10s/epoch - 64ms/step\n",
            "Epoch 65/100\n",
            "\n",
            "Epoch 65: val_loss improved from 0.93418 to 0.93354, saving model to dense_model.keras\n",
            "150/150 - 10s - loss: 0.9037 - accuracy: 0.6793 - val_loss: 0.9335 - val_accuracy: 0.6848 - lr: 0.0010 - 10s/epoch - 64ms/step\n",
            "Epoch 66/100\n",
            "\n",
            "Epoch 66: val_loss improved from 0.93354 to 0.92844, saving model to dense_model.keras\n",
            "150/150 - 10s - loss: 0.9005 - accuracy: 0.6820 - val_loss: 0.9284 - val_accuracy: 0.7111 - lr: 0.0010 - 10s/epoch - 64ms/step\n",
            "Epoch 67/100\n",
            "\n",
            "Epoch 67: val_loss improved from 0.92844 to 0.90930, saving model to dense_model.keras\n",
            "150/150 - 10s - loss: 0.8927 - accuracy: 0.6912 - val_loss: 0.9093 - val_accuracy: 0.7129 - lr: 0.0010 - 10s/epoch - 64ms/step\n",
            "Epoch 68/100\n",
            "\n",
            "Epoch 68: val_loss did not improve from 0.90930\n",
            "150/150 - 10s - loss: 0.8864 - accuracy: 0.6945 - val_loss: 0.9190 - val_accuracy: 0.6848 - lr: 0.0010 - 10s/epoch - 64ms/step\n",
            "Epoch 69/100\n",
            "\n",
            "Epoch 69: val_loss improved from 0.90930 to 0.90382, saving model to dense_model.keras\n",
            "150/150 - 10s - loss: 0.8755 - accuracy: 0.6910 - val_loss: 0.9038 - val_accuracy: 0.7073 - lr: 0.0010 - 10s/epoch - 64ms/step\n",
            "Epoch 70/100\n",
            "\n",
            "Epoch 70: val_loss improved from 0.90382 to 0.89708, saving model to dense_model.keras\n",
            "150/150 - 10s - loss: 0.8652 - accuracy: 0.7023 - val_loss: 0.8971 - val_accuracy: 0.7129 - lr: 0.0010 - 10s/epoch - 63ms/step\n",
            "Epoch 71/100\n",
            "\n",
            "Epoch 71: val_loss did not improve from 0.89708\n",
            "150/150 - 10s - loss: 0.8686 - accuracy: 0.6968 - val_loss: 0.9088 - val_accuracy: 0.7129 - lr: 0.0010 - 10s/epoch - 64ms/step\n",
            "Epoch 72/100\n",
            "\n",
            "Epoch 72: val_loss improved from 0.89708 to 0.88199, saving model to dense_model.keras\n",
            "150/150 - 10s - loss: 0.8648 - accuracy: 0.6983 - val_loss: 0.8820 - val_accuracy: 0.7223 - lr: 0.0010 - 10s/epoch - 64ms/step\n",
            "Epoch 73/100\n",
            "\n",
            "Epoch 73: val_loss improved from 0.88199 to 0.88132, saving model to dense_model.keras\n",
            "150/150 - 10s - loss: 0.8614 - accuracy: 0.7029 - val_loss: 0.8813 - val_accuracy: 0.7242 - lr: 0.0010 - 10s/epoch - 64ms/step\n",
            "Epoch 74/100\n",
            "\n",
            "Epoch 74: val_loss did not improve from 0.88132\n",
            "150/150 - 9s - loss: 0.8527 - accuracy: 0.7042 - val_loss: 0.9122 - val_accuracy: 0.7017 - lr: 0.0010 - 9s/epoch - 62ms/step\n",
            "Epoch 75/100\n",
            "\n",
            "Epoch 75: val_loss improved from 0.88132 to 0.87389, saving model to dense_model.keras\n",
            "150/150 - 10s - loss: 0.8481 - accuracy: 0.7046 - val_loss: 0.8739 - val_accuracy: 0.7298 - lr: 0.0010 - 10s/epoch - 64ms/step\n",
            "Epoch 76/100\n",
            "\n",
            "Epoch 76: val_loss did not improve from 0.87389\n",
            "150/150 - 10s - loss: 0.8395 - accuracy: 0.7134 - val_loss: 0.8837 - val_accuracy: 0.7036 - lr: 0.0010 - 10s/epoch - 64ms/step\n",
            "Epoch 77/100\n",
            "\n",
            "Epoch 77: val_loss improved from 0.87389 to 0.85904, saving model to dense_model.keras\n",
            "150/150 - 10s - loss: 0.8298 - accuracy: 0.7169 - val_loss: 0.8590 - val_accuracy: 0.7373 - lr: 0.0010 - 10s/epoch - 64ms/step\n",
            "Epoch 78/100\n",
            "\n",
            "Epoch 78: val_loss improved from 0.85904 to 0.85576, saving model to dense_model.keras\n",
            "150/150 - 9s - loss: 0.8283 - accuracy: 0.7109 - val_loss: 0.8558 - val_accuracy: 0.7373 - lr: 0.0010 - 9s/epoch - 63ms/step\n",
            "Epoch 79/100\n",
            "\n",
            "Epoch 79: val_loss did not improve from 0.85576\n",
            "150/150 - 10s - loss: 0.8231 - accuracy: 0.7146 - val_loss: 0.9096 - val_accuracy: 0.7017 - lr: 0.0010 - 10s/epoch - 64ms/step\n",
            "Epoch 80/100\n",
            "\n",
            "Epoch 80: val_loss did not improve from 0.85576\n",
            "150/150 - 10s - loss: 0.8380 - accuracy: 0.7081 - val_loss: 0.8908 - val_accuracy: 0.6867 - lr: 0.0010 - 10s/epoch - 64ms/step\n",
            "Epoch 81/100\n",
            "\n",
            "Epoch 81: val_loss did not improve from 0.85576\n",
            "\n",
            "Epoch 81: ReduceLROnPlateau reducing learning rate to 0.00020000000949949026.\n",
            "150/150 - 10s - loss: 0.8109 - accuracy: 0.7265 - val_loss: 0.8652 - val_accuracy: 0.7054 - lr: 0.0010 - 10s/epoch - 64ms/step\n",
            "Epoch 82/100\n",
            "\n",
            "Epoch 82: val_loss improved from 0.85576 to 0.83861, saving model to dense_model.keras\n",
            "150/150 - 10s - loss: 0.8002 - accuracy: 0.7378 - val_loss: 0.8386 - val_accuracy: 0.7430 - lr: 2.0000e-04 - 10s/epoch - 64ms/step\n",
            "Epoch 83/100\n",
            "\n",
            "Epoch 83: val_loss did not improve from 0.83861\n",
            "150/150 - 10s - loss: 0.7969 - accuracy: 0.7330 - val_loss: 0.8395 - val_accuracy: 0.7505 - lr: 2.0000e-04 - 10s/epoch - 65ms/step\n",
            "Epoch 84/100\n",
            "\n",
            "Epoch 84: val_loss improved from 0.83861 to 0.83858, saving model to dense_model.keras\n",
            "150/150 - 10s - loss: 0.7991 - accuracy: 0.7341 - val_loss: 0.8386 - val_accuracy: 0.7392 - lr: 2.0000e-04 - 10s/epoch - 66ms/step\n",
            "Epoch 85/100\n",
            "\n",
            "Epoch 85: val_loss did not improve from 0.83858\n",
            "\n",
            "Epoch 85: ReduceLROnPlateau reducing learning rate to 4.0000001899898055e-05.\n",
            "150/150 - 10s - loss: 0.7918 - accuracy: 0.7376 - val_loss: 0.8434 - val_accuracy: 0.7430 - lr: 2.0000e-04 - 10s/epoch - 64ms/step\n",
            "Epoch 86/100\n",
            "\n",
            "Epoch 86: val_loss improved from 0.83858 to 0.83447, saving model to dense_model.keras\n",
            "150/150 - 10s - loss: 0.7976 - accuracy: 0.7345 - val_loss: 0.8345 - val_accuracy: 0.7430 - lr: 4.0000e-05 - 10s/epoch - 63ms/step\n",
            "Epoch 87/100\n",
            "\n",
            "Epoch 87: val_loss improved from 0.83447 to 0.83349, saving model to dense_model.keras\n",
            "150/150 - 10s - loss: 0.7958 - accuracy: 0.7374 - val_loss: 0.8335 - val_accuracy: 0.7505 - lr: 4.0000e-05 - 10s/epoch - 67ms/step\n",
            "Epoch 88/100\n",
            "\n",
            "Epoch 88: val_loss did not improve from 0.83349\n",
            "150/150 - 12s - loss: 0.7953 - accuracy: 0.7338 - val_loss: 0.8344 - val_accuracy: 0.7486 - lr: 4.0000e-05 - 12s/epoch - 77ms/step\n",
            "Epoch 89/100\n",
            "\n",
            "Epoch 89: val_loss did not improve from 0.83349\n",
            "150/150 - 10s - loss: 0.7967 - accuracy: 0.7305 - val_loss: 0.8342 - val_accuracy: 0.7486 - lr: 4.0000e-05 - 10s/epoch - 67ms/step\n",
            "Epoch 90/100\n",
            "\n",
            "Epoch 90: val_loss did not improve from 0.83349\n",
            "\n",
            "Epoch 90: ReduceLROnPlateau reducing learning rate to 8.000000525498762e-06.\n",
            "150/150 - 10s - loss: 0.7975 - accuracy: 0.7376 - val_loss: 0.8336 - val_accuracy: 0.7486 - lr: 4.0000e-05 - 10s/epoch - 66ms/step\n",
            "Epoch 91/100\n",
            "\n",
            "Epoch 91: val_loss improved from 0.83349 to 0.83325, saving model to dense_model.keras\n",
            "150/150 - 10s - loss: 0.7888 - accuracy: 0.7412 - val_loss: 0.8332 - val_accuracy: 0.7523 - lr: 8.0000e-06 - 10s/epoch - 64ms/step\n",
            "Epoch 92/100\n",
            "\n",
            "Epoch 92: val_loss improved from 0.83325 to 0.83307, saving model to dense_model.keras\n",
            "150/150 - 10s - loss: 0.7873 - accuracy: 0.7428 - val_loss: 0.8331 - val_accuracy: 0.7523 - lr: 8.0000e-06 - 10s/epoch - 65ms/step\n",
            "Epoch 93/100\n",
            "\n",
            "Epoch 93: val_loss improved from 0.83307 to 0.83285, saving model to dense_model.keras\n",
            "150/150 - 10s - loss: 0.7944 - accuracy: 0.7366 - val_loss: 0.8329 - val_accuracy: 0.7505 - lr: 8.0000e-06 - 10s/epoch - 64ms/step\n",
            "Epoch 94/100\n",
            "\n",
            "Epoch 94: val_loss did not improve from 0.83285\n",
            "150/150 - 10s - loss: 0.7873 - accuracy: 0.7428 - val_loss: 0.8329 - val_accuracy: 0.7505 - lr: 8.0000e-06 - 10s/epoch - 64ms/step\n",
            "Epoch 95/100\n",
            "\n",
            "Epoch 95: val_loss did not improve from 0.83285\n",
            "150/150 - 10s - loss: 0.7881 - accuracy: 0.7370 - val_loss: 0.8332 - val_accuracy: 0.7467 - lr: 8.0000e-06 - 10s/epoch - 64ms/step\n",
            "Epoch 96/100\n",
            "\n",
            "Epoch 96: val_loss did not improve from 0.83285\n",
            "\n",
            "Epoch 96: ReduceLROnPlateau reducing learning rate to 1.6000001778593287e-06.\n",
            "150/150 - 10s - loss: 0.7958 - accuracy: 0.7320 - val_loss: 0.8332 - val_accuracy: 0.7467 - lr: 8.0000e-06 - 10s/epoch - 64ms/step\n",
            "Epoch 97/100\n",
            "\n",
            "Epoch 97: val_loss did not improve from 0.83285\n",
            "150/150 - 9s - loss: 0.7936 - accuracy: 0.7384 - val_loss: 0.8331 - val_accuracy: 0.7486 - lr: 1.6000e-06 - 9s/epoch - 63ms/step\n",
            "Epoch 98/100\n",
            "\n",
            "Epoch 98: val_loss did not improve from 0.83285\n",
            "Restoring model weights from the end of the best epoch: 93.\n",
            "150/150 - 9s - loss: 0.7836 - accuracy: 0.7433 - val_loss: 0.8330 - val_accuracy: 0.7505 - lr: 1.6000e-06 - 9s/epoch - 62ms/step\n",
            "Epoch 98: early stopping\n"
          ]
        }
      ]
    },
    {
      "cell_type": "code",
      "source": [
        "import matplotlib.pyplot as plt"
      ],
      "metadata": {
        "id": "6sV5CN1CCpC1"
      },
      "execution_count": null,
      "outputs": []
    },
    {
      "cell_type": "code",
      "source": [
        "plt.figure(figsize=(20,8))\n",
        "plt.plot(history.history['loss'])\n",
        "plt.plot(history.history['val_loss'])\n",
        "plt.title('Dense model loss')\n",
        "plt.ylabel('loss')\n",
        "plt.xlabel('epoch')\n",
        "plt.legend(['train', 'val'], loc='upper left')\n",
        "plt.show()"
      ],
      "metadata": {
        "colab": {
          "base_uri": "https://localhost:8080/",
          "height": 388
        },
        "id": "U41RZKL9Cnp_",
        "outputId": "d189a793-022e-4a42-e0b5-eec8e170eaca"
      },
      "execution_count": null,
      "outputs": [
        {
          "output_type": "display_data",
          "data": {
            "text/plain": [
              "<Figure size 2000x800 with 1 Axes>"
            ],
            "image/png": "[encoded data removed]"
          },
          "metadata": {}
        }
      ]
    },
    {
      "cell_type": "code",
      "source": [
        "plt.figure(figsize=(20,8))\n",
        "plt.plot(history.history['accuracy'])\n",
        "plt.plot(history.history['val_accuracy'])\n",
        "plt.title('Dense model accuracy')\n",
        "plt.ylabel('accuracy')\n",
        "plt.xlabel('epoch')\n",
        "plt.legend(['train', 'val'], loc='upper left')\n",
        "plt.show()"
      ],
      "metadata": {
        "colab": {
          "base_uri": "https://localhost:8080/",
          "height": 388
        },
        "id": "HfXdlvEtCs7r",
        "outputId": "394d4cc0-819f-4c6e-fc78-0616f6d3acce"
      },
      "execution_count": null,
      "outputs": [
        {
          "output_type": "display_data",
          "data": {
            "text/plain": [
              "<Figure size 2000x800 with 1 Axes>"
            ],
            "image/png": "[encoded data removed]"
          },
          "metadata": {}
        }
      ]
    },
    {
      "cell_type": "code",
      "source": [
        "# Avaliação do modelo no conjunto de teste\n",
        "loss, accuracy = model.evaluate(test_padded, test_df['label'])\n",
        "\n",
        "# Imprimir as métricas\n",
        "print(f'Loss: {loss:.4f}')\n",
        "print(f'Accuracy: {accuracy:.4f}')"
      ],
      "metadata": {
        "colab": {
          "base_uri": "https://localhost:8080/"
        },
        "id": "IXqMcqVNEPDD",
        "outputId": "0e74a554-7196-4c3f-fc02-a4683b9d50ba"
      },
      "execution_count": null,
      "outputs": [
        {
          "output_type": "stream",
          "name": "stdout",
          "text": [
            "17/17 [==============================] - 0s 23ms/step - loss: 0.8007 - accuracy: 0.7340\n",
            "Loss: 0.8007\n",
            "Accuracy: 0.7340\n"
          ]
        }
      ]
    },
    {
      "cell_type": "code",
      "source": [
        "from sklearn.metrics import classification_report, confusion_matrix\n",
        "\n",
        "# Obter as previsões do modelo\n",
        "predictions = model.predict(test_padded)\n",
        "\n",
        "# Converter as probabilidades em classes preditas (supondo que seja classificação multiclasse)\n",
        "predicted_classes = predictions.argmax(axis=1)\n",
        "\n",
        "# Calcular e imprimir outras métricas\n",
        "print(classification_report(test_df['label'], predicted_classes))"
      ],
      "metadata": {
        "colab": {
          "base_uri": "https://localhost:8080/"
        },
        "id": "D-BmOtqBEKFq",
        "outputId": "5166de61-1998-4556-d039-3441b4744c90"
      },
      "execution_count": null,
      "outputs": [
        {
          "output_type": "stream",
          "name": "stdout",
          "text": [
            "17/17 [==============================] - 0s 24ms/step\n",
            "              precision    recall  f1-score   support\n",
            "\n",
            "           0       0.81      0.89      0.85       139\n",
            "           1       0.88      0.89      0.88       131\n",
            "           2       0.65      0.82      0.73       120\n",
            "           3       0.52      0.57      0.54        77\n",
            "           4       0.70      0.11      0.19        63\n",
            "\n",
            "    accuracy                           0.73       530\n",
            "   macro avg       0.71      0.66      0.64       530\n",
            "weighted avg       0.74      0.73      0.71       530\n",
            "\n"
          ]
        }
      ]
    }
  ]
}